{
 "cells": [
  {
   "cell_type": "code",
   "execution_count": 1,
   "id": "66efa165-4a76-4d22-8620-634370b6a439",
   "metadata": {},
   "outputs": [],
   "source": [
    "# import libraries\n",
    "import pandas as pd\n",
    "import matplotlib.pyplot as plt\n",
    "import numpy as np\n",
    "import pandas_ta as ta # pip install pandas-ta\n",
    "import yfinance as yf # pip install yfinance"
   ]
  },
  {
   "cell_type": "code",
   "execution_count": 2,
   "id": "c37404e4-2382-4138-8b16-c4af93297d46",
   "metadata": {},
   "outputs": [],
   "source": [
    "listings = ['MMM', 'AXP', 'AMGN', 'AAPL', 'BA', 'CAT', 'CVX', 'CSCO', 'KO', 'DIS', 'DOW', 'GS', 'HD', 'HON', 'IBM', 'INTC', 'JNJ', 'JPM', 'MCD', 'MRK', 'MSFT', 'NKE', 'PG', 'CRM', 'TRV', 'UNH', 'VZ', 'V', 'WBA', 'WMT', 'DIA'] "
   ]
  },
  {
   "cell_type": "code",
   "execution_count": 3,
   "id": "3b15d00a-9e9d-48cb-b37a-fbde60841d70",
   "metadata": {},
   "outputs": [
    {
     "name": "stdout",
     "output_type": "stream",
     "text": [
      "[*********************100%***********************]  31 of 31 completed\n"
     ]
    }
   ],
   "source": [
    "df = yf.download(tickers=listings, period='20y', interval= '1d', auto_adjust=False )"
   ]
  },
  {
   "cell_type": "code",
   "execution_count": 4,
   "id": "eb5cd394-ab69-4a02-8bba-3d8feca638f6",
   "metadata": {},
   "outputs": [],
   "source": [
    "# stack and unstack indexed columns\n",
    "df = df.stack(level=0).unstack(level=1)\n",
    "\n",
    "# set each column name to TICKER - VALUE\n",
    "df.columns = df.columns.map(lambda x: f'{x[0]} - {x[1]}')\n",
    "\n",
    "# create date column from index\n",
    "df = df.reset_index()\n",
    "df = df.rename(columns={'index': 'Date'})"
   ]
  },
  {
   "cell_type": "code",
   "execution_count": 5,
   "id": "389f1a8f-cc3d-45f1-82f3-93ef02c172a7",
   "metadata": {
    "tags": []
   },
   "outputs": [],
   "source": [
    "for ticker in listings:\n",
    "    col_name = f'{ticker} - Dividend'\n",
    "    div_series = yf.Ticker(ticker).dividends\n",
    "    series_df = div_series.to_frame(name=col_name)\n",
    "    series_df.index = series_df.index.tz_convert(None).floor('D')\n",
    "    df = pd.merge(df, series_df, left_on='Date', right_index=True, how='left')\n",
    "    df[col_name] = df[col_name].fillna(0)"
   ]
  },
  {
   "cell_type": "code",
   "execution_count": 6,
   "id": "fe294c30-8f42-46cd-8ca0-37fe9a2e8cac",
   "metadata": {
    "tags": []
   },
   "outputs": [
    {
     "data": {
      "text/html": [
       "<div>\n",
       "<style scoped>\n",
       "    .dataframe tbody tr th:only-of-type {\n",
       "        vertical-align: middle;\n",
       "    }\n",
       "\n",
       "    .dataframe tbody tr th {\n",
       "        vertical-align: top;\n",
       "    }\n",
       "\n",
       "    .dataframe thead th {\n",
       "        text-align: right;\n",
       "    }\n",
       "</style>\n",
       "<table border=\"1\" class=\"dataframe\">\n",
       "  <thead>\n",
       "    <tr style=\"text-align: right;\">\n",
       "      <th></th>\n",
       "      <th>Date</th>\n",
       "      <th>AAPL - Adj Close</th>\n",
       "      <th>AAPL - Close</th>\n",
       "      <th>AAPL - High</th>\n",
       "      <th>AAPL - Low</th>\n",
       "      <th>AAPL - Open</th>\n",
       "      <th>AAPL - Volume</th>\n",
       "      <th>AMGN - Adj Close</th>\n",
       "      <th>AMGN - Close</th>\n",
       "      <th>AMGN - High</th>\n",
       "      <th>...</th>\n",
       "      <th>NKE - Dividend</th>\n",
       "      <th>PG - Dividend</th>\n",
       "      <th>CRM - Dividend</th>\n",
       "      <th>TRV - Dividend</th>\n",
       "      <th>UNH - Dividend</th>\n",
       "      <th>VZ - Dividend</th>\n",
       "      <th>V - Dividend</th>\n",
       "      <th>WBA - Dividend</th>\n",
       "      <th>WMT - Dividend</th>\n",
       "      <th>DIA - Dividend</th>\n",
       "    </tr>\n",
       "  </thead>\n",
       "  <tbody>\n",
       "    <tr>\n",
       "      <th>0</th>\n",
       "      <td>2003-06-24</td>\n",
       "      <td>0.285034</td>\n",
       "      <td>0.335357</td>\n",
       "      <td>0.351250</td>\n",
       "      <td>0.334286</td>\n",
       "      <td>0.347679</td>\n",
       "      <td>514382400.0</td>\n",
       "      <td>47.883724</td>\n",
       "      <td>65.050003</td>\n",
       "      <td>65.680000</td>\n",
       "      <td>...</td>\n",
       "      <td>0.0</td>\n",
       "      <td>0.0</td>\n",
       "      <td>0.0</td>\n",
       "      <td>0.00</td>\n",
       "      <td>0.0</td>\n",
       "      <td>0.0</td>\n",
       "      <td>0.0</td>\n",
       "      <td>0.0</td>\n",
       "      <td>0.0</td>\n",
       "      <td>0.000</td>\n",
       "    </tr>\n",
       "    <tr>\n",
       "      <th>1</th>\n",
       "      <td>2003-06-25</td>\n",
       "      <td>0.289740</td>\n",
       "      <td>0.340893</td>\n",
       "      <td>0.346429</td>\n",
       "      <td>0.334107</td>\n",
       "      <td>0.336786</td>\n",
       "      <td>329812000.0</td>\n",
       "      <td>47.545109</td>\n",
       "      <td>64.589996</td>\n",
       "      <td>66.000000</td>\n",
       "      <td>...</td>\n",
       "      <td>0.0</td>\n",
       "      <td>0.0</td>\n",
       "      <td>0.0</td>\n",
       "      <td>0.00</td>\n",
       "      <td>0.0</td>\n",
       "      <td>0.0</td>\n",
       "      <td>0.0</td>\n",
       "      <td>0.0</td>\n",
       "      <td>0.0</td>\n",
       "      <td>0.000</td>\n",
       "    </tr>\n",
       "    <tr>\n",
       "      <th>2</th>\n",
       "      <td>2003-06-26</td>\n",
       "      <td>0.292775</td>\n",
       "      <td>0.344464</td>\n",
       "      <td>0.345000</td>\n",
       "      <td>0.333929</td>\n",
       "      <td>0.333929</td>\n",
       "      <td>161705600.0</td>\n",
       "      <td>48.818577</td>\n",
       "      <td>66.320000</td>\n",
       "      <td>66.470001</td>\n",
       "      <td>...</td>\n",
       "      <td>0.0</td>\n",
       "      <td>0.0</td>\n",
       "      <td>0.0</td>\n",
       "      <td>0.29</td>\n",
       "      <td>0.0</td>\n",
       "      <td>0.0</td>\n",
       "      <td>0.0</td>\n",
       "      <td>0.0</td>\n",
       "      <td>0.0</td>\n",
       "      <td>0.000</td>\n",
       "    </tr>\n",
       "    <tr>\n",
       "      <th>3</th>\n",
       "      <td>2003-06-27</td>\n",
       "      <td>0.284275</td>\n",
       "      <td>0.334464</td>\n",
       "      <td>0.344821</td>\n",
       "      <td>0.330000</td>\n",
       "      <td>0.344643</td>\n",
       "      <td>365792000.0</td>\n",
       "      <td>47.979427</td>\n",
       "      <td>65.180000</td>\n",
       "      <td>66.570000</td>\n",
       "      <td>...</td>\n",
       "      <td>0.0</td>\n",
       "      <td>0.0</td>\n",
       "      <td>0.0</td>\n",
       "      <td>0.00</td>\n",
       "      <td>0.0</td>\n",
       "      <td>0.0</td>\n",
       "      <td>0.0</td>\n",
       "      <td>0.0</td>\n",
       "      <td>0.0</td>\n",
       "      <td>0.000</td>\n",
       "    </tr>\n",
       "    <tr>\n",
       "      <th>4</th>\n",
       "      <td>2003-06-30</td>\n",
       "      <td>0.289284</td>\n",
       "      <td>0.340357</td>\n",
       "      <td>0.343036</td>\n",
       "      <td>0.331964</td>\n",
       "      <td>0.333571</td>\n",
       "      <td>222152000.0</td>\n",
       "      <td>48.538872</td>\n",
       "      <td>65.940002</td>\n",
       "      <td>67.220001</td>\n",
       "      <td>...</td>\n",
       "      <td>0.0</td>\n",
       "      <td>0.0</td>\n",
       "      <td>0.0</td>\n",
       "      <td>0.00</td>\n",
       "      <td>0.0</td>\n",
       "      <td>0.0</td>\n",
       "      <td>0.0</td>\n",
       "      <td>0.0</td>\n",
       "      <td>0.0</td>\n",
       "      <td>0.000</td>\n",
       "    </tr>\n",
       "    <tr>\n",
       "      <th>...</th>\n",
       "      <td>...</td>\n",
       "      <td>...</td>\n",
       "      <td>...</td>\n",
       "      <td>...</td>\n",
       "      <td>...</td>\n",
       "      <td>...</td>\n",
       "      <td>...</td>\n",
       "      <td>...</td>\n",
       "      <td>...</td>\n",
       "      <td>...</td>\n",
       "      <td>...</td>\n",
       "      <td>...</td>\n",
       "      <td>...</td>\n",
       "      <td>...</td>\n",
       "      <td>...</td>\n",
       "      <td>...</td>\n",
       "      <td>...</td>\n",
       "      <td>...</td>\n",
       "      <td>...</td>\n",
       "      <td>...</td>\n",
       "      <td>...</td>\n",
       "    </tr>\n",
       "    <tr>\n",
       "      <th>5030</th>\n",
       "      <td>2023-06-16</td>\n",
       "      <td>184.919998</td>\n",
       "      <td>184.919998</td>\n",
       "      <td>186.990005</td>\n",
       "      <td>184.270004</td>\n",
       "      <td>186.729996</td>\n",
       "      <td>101235600.0</td>\n",
       "      <td>229.660004</td>\n",
       "      <td>229.660004</td>\n",
       "      <td>231.949997</td>\n",
       "      <td>...</td>\n",
       "      <td>0.0</td>\n",
       "      <td>0.0</td>\n",
       "      <td>0.0</td>\n",
       "      <td>0.00</td>\n",
       "      <td>0.0</td>\n",
       "      <td>0.0</td>\n",
       "      <td>0.0</td>\n",
       "      <td>0.0</td>\n",
       "      <td>0.0</td>\n",
       "      <td>0.776</td>\n",
       "    </tr>\n",
       "    <tr>\n",
       "      <th>5031</th>\n",
       "      <td>2023-06-20</td>\n",
       "      <td>185.009995</td>\n",
       "      <td>185.009995</td>\n",
       "      <td>186.100006</td>\n",
       "      <td>184.410004</td>\n",
       "      <td>184.410004</td>\n",
       "      <td>49799100.0</td>\n",
       "      <td>228.589996</td>\n",
       "      <td>228.589996</td>\n",
       "      <td>230.839996</td>\n",
       "      <td>...</td>\n",
       "      <td>0.0</td>\n",
       "      <td>0.0</td>\n",
       "      <td>0.0</td>\n",
       "      <td>0.00</td>\n",
       "      <td>0.0</td>\n",
       "      <td>0.0</td>\n",
       "      <td>0.0</td>\n",
       "      <td>0.0</td>\n",
       "      <td>0.0</td>\n",
       "      <td>0.000</td>\n",
       "    </tr>\n",
       "    <tr>\n",
       "      <th>5032</th>\n",
       "      <td>2023-06-21</td>\n",
       "      <td>183.960007</td>\n",
       "      <td>183.960007</td>\n",
       "      <td>185.410004</td>\n",
       "      <td>182.589996</td>\n",
       "      <td>184.899994</td>\n",
       "      <td>49515700.0</td>\n",
       "      <td>227.039993</td>\n",
       "      <td>227.039993</td>\n",
       "      <td>230.000000</td>\n",
       "      <td>...</td>\n",
       "      <td>0.0</td>\n",
       "      <td>0.0</td>\n",
       "      <td>0.0</td>\n",
       "      <td>0.00</td>\n",
       "      <td>0.0</td>\n",
       "      <td>0.0</td>\n",
       "      <td>0.0</td>\n",
       "      <td>0.0</td>\n",
       "      <td>0.0</td>\n",
       "      <td>0.000</td>\n",
       "    </tr>\n",
       "    <tr>\n",
       "      <th>5033</th>\n",
       "      <td>2023-06-22</td>\n",
       "      <td>187.000000</td>\n",
       "      <td>187.000000</td>\n",
       "      <td>187.050003</td>\n",
       "      <td>183.669998</td>\n",
       "      <td>183.740005</td>\n",
       "      <td>51245300.0</td>\n",
       "      <td>229.660004</td>\n",
       "      <td>229.660004</td>\n",
       "      <td>229.880005</td>\n",
       "      <td>...</td>\n",
       "      <td>0.0</td>\n",
       "      <td>0.0</td>\n",
       "      <td>0.0</td>\n",
       "      <td>0.00</td>\n",
       "      <td>0.0</td>\n",
       "      <td>0.0</td>\n",
       "      <td>0.0</td>\n",
       "      <td>0.0</td>\n",
       "      <td>0.0</td>\n",
       "      <td>0.000</td>\n",
       "    </tr>\n",
       "    <tr>\n",
       "      <th>5034</th>\n",
       "      <td>2023-06-23</td>\n",
       "      <td>186.679993</td>\n",
       "      <td>186.679993</td>\n",
       "      <td>187.559998</td>\n",
       "      <td>185.009995</td>\n",
       "      <td>185.550003</td>\n",
       "      <td>53079300.0</td>\n",
       "      <td>227.110001</td>\n",
       "      <td>227.110001</td>\n",
       "      <td>230.539993</td>\n",
       "      <td>...</td>\n",
       "      <td>0.0</td>\n",
       "      <td>0.0</td>\n",
       "      <td>0.0</td>\n",
       "      <td>0.00</td>\n",
       "      <td>0.0</td>\n",
       "      <td>0.0</td>\n",
       "      <td>0.0</td>\n",
       "      <td>0.0</td>\n",
       "      <td>0.0</td>\n",
       "      <td>0.000</td>\n",
       "    </tr>\n",
       "  </tbody>\n",
       "</table>\n",
       "<p>5035 rows × 218 columns</p>\n",
       "</div>"
      ],
      "text/plain": [
       "           Date  AAPL - Adj Close  AAPL - Close  AAPL - High  AAPL - Low  \\\n",
       "0    2003-06-24          0.285034      0.335357     0.351250    0.334286   \n",
       "1    2003-06-25          0.289740      0.340893     0.346429    0.334107   \n",
       "2    2003-06-26          0.292775      0.344464     0.345000    0.333929   \n",
       "3    2003-06-27          0.284275      0.334464     0.344821    0.330000   \n",
       "4    2003-06-30          0.289284      0.340357     0.343036    0.331964   \n",
       "...         ...               ...           ...          ...         ...   \n",
       "5030 2023-06-16        184.919998    184.919998   186.990005  184.270004   \n",
       "5031 2023-06-20        185.009995    185.009995   186.100006  184.410004   \n",
       "5032 2023-06-21        183.960007    183.960007   185.410004  182.589996   \n",
       "5033 2023-06-22        187.000000    187.000000   187.050003  183.669998   \n",
       "5034 2023-06-23        186.679993    186.679993   187.559998  185.009995   \n",
       "\n",
       "      AAPL - Open  AAPL - Volume  AMGN - Adj Close  AMGN - Close  AMGN - High  \\\n",
       "0        0.347679    514382400.0         47.883724     65.050003    65.680000   \n",
       "1        0.336786    329812000.0         47.545109     64.589996    66.000000   \n",
       "2        0.333929    161705600.0         48.818577     66.320000    66.470001   \n",
       "3        0.344643    365792000.0         47.979427     65.180000    66.570000   \n",
       "4        0.333571    222152000.0         48.538872     65.940002    67.220001   \n",
       "...           ...            ...               ...           ...          ...   \n",
       "5030   186.729996    101235600.0        229.660004    229.660004   231.949997   \n",
       "5031   184.410004     49799100.0        228.589996    228.589996   230.839996   \n",
       "5032   184.899994     49515700.0        227.039993    227.039993   230.000000   \n",
       "5033   183.740005     51245300.0        229.660004    229.660004   229.880005   \n",
       "5034   185.550003     53079300.0        227.110001    227.110001   230.539993   \n",
       "\n",
       "      ...  NKE - Dividend  PG - Dividend  CRM - Dividend  TRV - Dividend  \\\n",
       "0     ...             0.0            0.0             0.0            0.00   \n",
       "1     ...             0.0            0.0             0.0            0.00   \n",
       "2     ...             0.0            0.0             0.0            0.29   \n",
       "3     ...             0.0            0.0             0.0            0.00   \n",
       "4     ...             0.0            0.0             0.0            0.00   \n",
       "...   ...             ...            ...             ...             ...   \n",
       "5030  ...             0.0            0.0             0.0            0.00   \n",
       "5031  ...             0.0            0.0             0.0            0.00   \n",
       "5032  ...             0.0            0.0             0.0            0.00   \n",
       "5033  ...             0.0            0.0             0.0            0.00   \n",
       "5034  ...             0.0            0.0             0.0            0.00   \n",
       "\n",
       "      UNH - Dividend  VZ - Dividend  V - Dividend  WBA - Dividend  \\\n",
       "0                0.0            0.0           0.0             0.0   \n",
       "1                0.0            0.0           0.0             0.0   \n",
       "2                0.0            0.0           0.0             0.0   \n",
       "3                0.0            0.0           0.0             0.0   \n",
       "4                0.0            0.0           0.0             0.0   \n",
       "...              ...            ...           ...             ...   \n",
       "5030             0.0            0.0           0.0             0.0   \n",
       "5031             0.0            0.0           0.0             0.0   \n",
       "5032             0.0            0.0           0.0             0.0   \n",
       "5033             0.0            0.0           0.0             0.0   \n",
       "5034             0.0            0.0           0.0             0.0   \n",
       "\n",
       "      WMT - Dividend  DIA - Dividend  \n",
       "0                0.0           0.000  \n",
       "1                0.0           0.000  \n",
       "2                0.0           0.000  \n",
       "3                0.0           0.000  \n",
       "4                0.0           0.000  \n",
       "...              ...             ...  \n",
       "5030             0.0           0.776  \n",
       "5031             0.0           0.000  \n",
       "5032             0.0           0.000  \n",
       "5033             0.0           0.000  \n",
       "5034             0.0           0.000  \n",
       "\n",
       "[5035 rows x 218 columns]"
      ]
     },
     "execution_count": 6,
     "metadata": {},
     "output_type": "execute_result"
    }
   ],
   "source": [
    "df[df['MCD - Close'] != 0]"
   ]
  },
  {
   "cell_type": "code",
   "execution_count": 7,
   "id": "3ee49e43-a20a-4736-864a-950718213a26",
   "metadata": {
    "tags": []
   },
   "outputs": [
    {
     "data": {
      "text/plain": [
       "['Date',\n",
       " 'AAPL - Adj Close',\n",
       " 'AAPL - Close',\n",
       " 'AAPL - High',\n",
       " 'AAPL - Low',\n",
       " 'AAPL - Open',\n",
       " 'AAPL - Volume',\n",
       " 'AMGN - Adj Close',\n",
       " 'AMGN - Close',\n",
       " 'AMGN - High',\n",
       " 'AMGN - Low',\n",
       " 'AMGN - Open',\n",
       " 'AMGN - Volume',\n",
       " 'AXP - Adj Close',\n",
       " 'AXP - Close',\n",
       " 'AXP - High',\n",
       " 'AXP - Low',\n",
       " 'AXP - Open',\n",
       " 'AXP - Volume',\n",
       " 'BA - Adj Close',\n",
       " 'BA - Close',\n",
       " 'BA - High',\n",
       " 'BA - Low',\n",
       " 'BA - Open',\n",
       " 'BA - Volume',\n",
       " 'CAT - Adj Close',\n",
       " 'CAT - Close',\n",
       " 'CAT - High',\n",
       " 'CAT - Low',\n",
       " 'CAT - Open',\n",
       " 'CAT - Volume',\n",
       " 'CRM - Adj Close',\n",
       " 'CRM - Close',\n",
       " 'CRM - High',\n",
       " 'CRM - Low',\n",
       " 'CRM - Open',\n",
       " 'CRM - Volume',\n",
       " 'CSCO - Adj Close',\n",
       " 'CSCO - Close',\n",
       " 'CSCO - High',\n",
       " 'CSCO - Low',\n",
       " 'CSCO - Open',\n",
       " 'CSCO - Volume',\n",
       " 'CVX - Adj Close',\n",
       " 'CVX - Close',\n",
       " 'CVX - High',\n",
       " 'CVX - Low',\n",
       " 'CVX - Open',\n",
       " 'CVX - Volume',\n",
       " 'DIA - Adj Close',\n",
       " 'DIA - Close',\n",
       " 'DIA - High',\n",
       " 'DIA - Low',\n",
       " 'DIA - Open',\n",
       " 'DIA - Volume',\n",
       " 'DIS - Adj Close',\n",
       " 'DIS - Close',\n",
       " 'DIS - High',\n",
       " 'DIS - Low',\n",
       " 'DIS - Open',\n",
       " 'DIS - Volume',\n",
       " 'DOW - Adj Close',\n",
       " 'DOW - Close',\n",
       " 'DOW - High',\n",
       " 'DOW - Low',\n",
       " 'DOW - Open',\n",
       " 'DOW - Volume',\n",
       " 'GS - Adj Close',\n",
       " 'GS - Close',\n",
       " 'GS - High',\n",
       " 'GS - Low',\n",
       " 'GS - Open',\n",
       " 'GS - Volume',\n",
       " 'HD - Adj Close',\n",
       " 'HD - Close',\n",
       " 'HD - High',\n",
       " 'HD - Low',\n",
       " 'HD - Open',\n",
       " 'HD - Volume',\n",
       " 'HON - Adj Close',\n",
       " 'HON - Close',\n",
       " 'HON - High',\n",
       " 'HON - Low',\n",
       " 'HON - Open',\n",
       " 'HON - Volume',\n",
       " 'IBM - Adj Close',\n",
       " 'IBM - Close',\n",
       " 'IBM - High',\n",
       " 'IBM - Low',\n",
       " 'IBM - Open',\n",
       " 'IBM - Volume',\n",
       " 'INTC - Adj Close',\n",
       " 'INTC - Close',\n",
       " 'INTC - High',\n",
       " 'INTC - Low',\n",
       " 'INTC - Open',\n",
       " 'INTC - Volume',\n",
       " 'JNJ - Adj Close',\n",
       " 'JNJ - Close',\n",
       " 'JNJ - High',\n",
       " 'JNJ - Low',\n",
       " 'JNJ - Open',\n",
       " 'JNJ - Volume',\n",
       " 'JPM - Adj Close',\n",
       " 'JPM - Close',\n",
       " 'JPM - High',\n",
       " 'JPM - Low',\n",
       " 'JPM - Open',\n",
       " 'JPM - Volume',\n",
       " 'KO - Adj Close',\n",
       " 'KO - Close',\n",
       " 'KO - High',\n",
       " 'KO - Low',\n",
       " 'KO - Open',\n",
       " 'KO - Volume',\n",
       " 'MCD - Adj Close',\n",
       " 'MCD - Close',\n",
       " 'MCD - High',\n",
       " 'MCD - Low',\n",
       " 'MCD - Open',\n",
       " 'MCD - Volume',\n",
       " 'MMM - Adj Close',\n",
       " 'MMM - Close',\n",
       " 'MMM - High',\n",
       " 'MMM - Low',\n",
       " 'MMM - Open',\n",
       " 'MMM - Volume',\n",
       " 'MRK - Adj Close',\n",
       " 'MRK - Close',\n",
       " 'MRK - High',\n",
       " 'MRK - Low',\n",
       " 'MRK - Open',\n",
       " 'MRK - Volume',\n",
       " 'MSFT - Adj Close',\n",
       " 'MSFT - Close',\n",
       " 'MSFT - High',\n",
       " 'MSFT - Low',\n",
       " 'MSFT - Open',\n",
       " 'MSFT - Volume',\n",
       " 'NKE - Adj Close',\n",
       " 'NKE - Close',\n",
       " 'NKE - High',\n",
       " 'NKE - Low',\n",
       " 'NKE - Open',\n",
       " 'NKE - Volume',\n",
       " 'PG - Adj Close',\n",
       " 'PG - Close',\n",
       " 'PG - High',\n",
       " 'PG - Low',\n",
       " 'PG - Open',\n",
       " 'PG - Volume',\n",
       " 'TRV - Adj Close',\n",
       " 'TRV - Close',\n",
       " 'TRV - High',\n",
       " 'TRV - Low',\n",
       " 'TRV - Open',\n",
       " 'TRV - Volume',\n",
       " 'UNH - Adj Close',\n",
       " 'UNH - Close',\n",
       " 'UNH - High',\n",
       " 'UNH - Low',\n",
       " 'UNH - Open',\n",
       " 'UNH - Volume',\n",
       " 'V - Adj Close',\n",
       " 'V - Close',\n",
       " 'V - High',\n",
       " 'V - Low',\n",
       " 'V - Open',\n",
       " 'V - Volume',\n",
       " 'VZ - Adj Close',\n",
       " 'VZ - Close',\n",
       " 'VZ - High',\n",
       " 'VZ - Low',\n",
       " 'VZ - Open',\n",
       " 'VZ - Volume',\n",
       " 'WBA - Adj Close',\n",
       " 'WBA - Close',\n",
       " 'WBA - High',\n",
       " 'WBA - Low',\n",
       " 'WBA - Open',\n",
       " 'WBA - Volume',\n",
       " 'WMT - Adj Close',\n",
       " 'WMT - Close',\n",
       " 'WMT - High',\n",
       " 'WMT - Low',\n",
       " 'WMT - Open',\n",
       " 'WMT - Volume',\n",
       " 'MMM - Dividend',\n",
       " 'AXP - Dividend',\n",
       " 'AMGN - Dividend',\n",
       " 'AAPL - Dividend',\n",
       " 'BA - Dividend',\n",
       " 'CAT - Dividend',\n",
       " 'CVX - Dividend',\n",
       " 'CSCO - Dividend',\n",
       " 'KO - Dividend',\n",
       " 'DIS - Dividend',\n",
       " 'DOW - Dividend',\n",
       " 'GS - Dividend',\n",
       " 'HD - Dividend',\n",
       " 'HON - Dividend',\n",
       " 'IBM - Dividend',\n",
       " 'INTC - Dividend',\n",
       " 'JNJ - Dividend',\n",
       " 'JPM - Dividend',\n",
       " 'MCD - Dividend',\n",
       " 'MRK - Dividend',\n",
       " 'MSFT - Dividend',\n",
       " 'NKE - Dividend',\n",
       " 'PG - Dividend',\n",
       " 'CRM - Dividend',\n",
       " 'TRV - Dividend',\n",
       " 'UNH - Dividend',\n",
       " 'VZ - Dividend',\n",
       " 'V - Dividend',\n",
       " 'WBA - Dividend',\n",
       " 'WMT - Dividend',\n",
       " 'DIA - Dividend']"
      ]
     },
     "execution_count": 7,
     "metadata": {},
     "output_type": "execute_result"
    }
   ],
   "source": [
    "df.columns.tolist()"
   ]
  },
  {
   "cell_type": "code",
   "execution_count": 8,
   "id": "2665f893-a455-4cba-829e-ec09e9707b7d",
   "metadata": {
    "tags": []
   },
   "outputs": [],
   "source": [
    "df.to_csv('dija_w_divs.csv', index=False)"
   ]
  },
  {
   "cell_type": "code",
   "execution_count": 9,
   "id": "a4eb3f2e-fb36-4117-93f3-497dbfedc9fc",
   "metadata": {
    "tags": []
   },
   "outputs": [],
   "source": [
    "df2 = pd.read_csv('dija_w_divs.csv')"
   ]
  },
  {
   "cell_type": "code",
   "execution_count": 10,
   "id": "f52f841f-d61c-4fc0-8396-231800fa03a4",
   "metadata": {
    "tags": []
   },
   "outputs": [
    {
     "data": {
      "text/html": [
       "<div>\n",
       "<style scoped>\n",
       "    .dataframe tbody tr th:only-of-type {\n",
       "        vertical-align: middle;\n",
       "    }\n",
       "\n",
       "    .dataframe tbody tr th {\n",
       "        vertical-align: top;\n",
       "    }\n",
       "\n",
       "    .dataframe thead th {\n",
       "        text-align: right;\n",
       "    }\n",
       "</style>\n",
       "<table border=\"1\" class=\"dataframe\">\n",
       "  <thead>\n",
       "    <tr style=\"text-align: right;\">\n",
       "      <th></th>\n",
       "      <th>Date</th>\n",
       "      <th>AAPL - Adj Close</th>\n",
       "      <th>AAPL - Close</th>\n",
       "      <th>AAPL - High</th>\n",
       "      <th>AAPL - Low</th>\n",
       "      <th>AAPL - Open</th>\n",
       "      <th>AAPL - Volume</th>\n",
       "      <th>AMGN - Adj Close</th>\n",
       "      <th>AMGN - Close</th>\n",
       "      <th>AMGN - High</th>\n",
       "      <th>...</th>\n",
       "      <th>NKE - Dividend</th>\n",
       "      <th>PG - Dividend</th>\n",
       "      <th>CRM - Dividend</th>\n",
       "      <th>TRV - Dividend</th>\n",
       "      <th>UNH - Dividend</th>\n",
       "      <th>VZ - Dividend</th>\n",
       "      <th>V - Dividend</th>\n",
       "      <th>WBA - Dividend</th>\n",
       "      <th>WMT - Dividend</th>\n",
       "      <th>DIA - Dividend</th>\n",
       "    </tr>\n",
       "  </thead>\n",
       "  <tbody>\n",
       "    <tr>\n",
       "      <th>0</th>\n",
       "      <td>2003-06-24</td>\n",
       "      <td>0.285034</td>\n",
       "      <td>0.335357</td>\n",
       "      <td>0.351250</td>\n",
       "      <td>0.334286</td>\n",
       "      <td>0.347679</td>\n",
       "      <td>514382400.0</td>\n",
       "      <td>47.883724</td>\n",
       "      <td>65.050003</td>\n",
       "      <td>65.680000</td>\n",
       "      <td>...</td>\n",
       "      <td>0.0</td>\n",
       "      <td>0.0</td>\n",
       "      <td>0.0</td>\n",
       "      <td>0.00</td>\n",
       "      <td>0.0</td>\n",
       "      <td>0.0</td>\n",
       "      <td>0.0</td>\n",
       "      <td>0.0</td>\n",
       "      <td>0.0</td>\n",
       "      <td>0.0</td>\n",
       "    </tr>\n",
       "    <tr>\n",
       "      <th>1</th>\n",
       "      <td>2003-06-25</td>\n",
       "      <td>0.289740</td>\n",
       "      <td>0.340893</td>\n",
       "      <td>0.346429</td>\n",
       "      <td>0.334107</td>\n",
       "      <td>0.336786</td>\n",
       "      <td>329812000.0</td>\n",
       "      <td>47.545109</td>\n",
       "      <td>64.589996</td>\n",
       "      <td>66.000000</td>\n",
       "      <td>...</td>\n",
       "      <td>0.0</td>\n",
       "      <td>0.0</td>\n",
       "      <td>0.0</td>\n",
       "      <td>0.00</td>\n",
       "      <td>0.0</td>\n",
       "      <td>0.0</td>\n",
       "      <td>0.0</td>\n",
       "      <td>0.0</td>\n",
       "      <td>0.0</td>\n",
       "      <td>0.0</td>\n",
       "    </tr>\n",
       "    <tr>\n",
       "      <th>2</th>\n",
       "      <td>2003-06-26</td>\n",
       "      <td>0.292775</td>\n",
       "      <td>0.344464</td>\n",
       "      <td>0.345000</td>\n",
       "      <td>0.333929</td>\n",
       "      <td>0.333929</td>\n",
       "      <td>161705600.0</td>\n",
       "      <td>48.818577</td>\n",
       "      <td>66.320000</td>\n",
       "      <td>66.470001</td>\n",
       "      <td>...</td>\n",
       "      <td>0.0</td>\n",
       "      <td>0.0</td>\n",
       "      <td>0.0</td>\n",
       "      <td>0.29</td>\n",
       "      <td>0.0</td>\n",
       "      <td>0.0</td>\n",
       "      <td>0.0</td>\n",
       "      <td>0.0</td>\n",
       "      <td>0.0</td>\n",
       "      <td>0.0</td>\n",
       "    </tr>\n",
       "    <tr>\n",
       "      <th>3</th>\n",
       "      <td>2003-06-27</td>\n",
       "      <td>0.284275</td>\n",
       "      <td>0.334464</td>\n",
       "      <td>0.344821</td>\n",
       "      <td>0.330000</td>\n",
       "      <td>0.344643</td>\n",
       "      <td>365792000.0</td>\n",
       "      <td>47.979427</td>\n",
       "      <td>65.180000</td>\n",
       "      <td>66.570000</td>\n",
       "      <td>...</td>\n",
       "      <td>0.0</td>\n",
       "      <td>0.0</td>\n",
       "      <td>0.0</td>\n",
       "      <td>0.00</td>\n",
       "      <td>0.0</td>\n",
       "      <td>0.0</td>\n",
       "      <td>0.0</td>\n",
       "      <td>0.0</td>\n",
       "      <td>0.0</td>\n",
       "      <td>0.0</td>\n",
       "    </tr>\n",
       "    <tr>\n",
       "      <th>4</th>\n",
       "      <td>2003-06-30</td>\n",
       "      <td>0.289284</td>\n",
       "      <td>0.340357</td>\n",
       "      <td>0.343036</td>\n",
       "      <td>0.331964</td>\n",
       "      <td>0.333571</td>\n",
       "      <td>222152000.0</td>\n",
       "      <td>48.538872</td>\n",
       "      <td>65.940002</td>\n",
       "      <td>67.220001</td>\n",
       "      <td>...</td>\n",
       "      <td>0.0</td>\n",
       "      <td>0.0</td>\n",
       "      <td>0.0</td>\n",
       "      <td>0.00</td>\n",
       "      <td>0.0</td>\n",
       "      <td>0.0</td>\n",
       "      <td>0.0</td>\n",
       "      <td>0.0</td>\n",
       "      <td>0.0</td>\n",
       "      <td>0.0</td>\n",
       "    </tr>\n",
       "  </tbody>\n",
       "</table>\n",
       "<p>5 rows × 218 columns</p>\n",
       "</div>"
      ],
      "text/plain": [
       "         Date  AAPL - Adj Close  AAPL - Close  AAPL - High  AAPL - Low  \\\n",
       "0  2003-06-24          0.285034      0.335357     0.351250    0.334286   \n",
       "1  2003-06-25          0.289740      0.340893     0.346429    0.334107   \n",
       "2  2003-06-26          0.292775      0.344464     0.345000    0.333929   \n",
       "3  2003-06-27          0.284275      0.334464     0.344821    0.330000   \n",
       "4  2003-06-30          0.289284      0.340357     0.343036    0.331964   \n",
       "\n",
       "   AAPL - Open  AAPL - Volume  AMGN - Adj Close  AMGN - Close  AMGN - High  \\\n",
       "0     0.347679    514382400.0         47.883724     65.050003    65.680000   \n",
       "1     0.336786    329812000.0         47.545109     64.589996    66.000000   \n",
       "2     0.333929    161705600.0         48.818577     66.320000    66.470001   \n",
       "3     0.344643    365792000.0         47.979427     65.180000    66.570000   \n",
       "4     0.333571    222152000.0         48.538872     65.940002    67.220001   \n",
       "\n",
       "   ...  NKE - Dividend  PG - Dividend  CRM - Dividend  TRV - Dividend  \\\n",
       "0  ...             0.0            0.0             0.0            0.00   \n",
       "1  ...             0.0            0.0             0.0            0.00   \n",
       "2  ...             0.0            0.0             0.0            0.29   \n",
       "3  ...             0.0            0.0             0.0            0.00   \n",
       "4  ...             0.0            0.0             0.0            0.00   \n",
       "\n",
       "   UNH - Dividend  VZ - Dividend  V - Dividend  WBA - Dividend  \\\n",
       "0             0.0            0.0           0.0             0.0   \n",
       "1             0.0            0.0           0.0             0.0   \n",
       "2             0.0            0.0           0.0             0.0   \n",
       "3             0.0            0.0           0.0             0.0   \n",
       "4             0.0            0.0           0.0             0.0   \n",
       "\n",
       "   WMT - Dividend  DIA - Dividend  \n",
       "0             0.0             0.0  \n",
       "1             0.0             0.0  \n",
       "2             0.0             0.0  \n",
       "3             0.0             0.0  \n",
       "4             0.0             0.0  \n",
       "\n",
       "[5 rows x 218 columns]"
      ]
     },
     "execution_count": 10,
     "metadata": {},
     "output_type": "execute_result"
    }
   ],
   "source": [
    "df2.head()"
   ]
  },
  {
   "cell_type": "markdown",
   "id": "764b6d71-65a2-4236-9066-9c37f6876432",
   "metadata": {},
   "source": [
    "# 2. Load Data McDonald's (MCD)"
   ]
  },
  {
   "cell_type": "markdown",
   "id": "427716dc-d9e7-46c7-9d41-125ffc565b64",
   "metadata": {},
   "source": [
    "## significantmodification is introduced in \n",
    "* Sup-port Vector Machines Algorithm(SVMA) which results in higher accuracy rates. Presence of kernel and other parameters make it more flexible."
   ]
  },
  {
   "cell_type": "code",
   "execution_count": 11,
   "id": "a538b088-0a45-44d1-9df1-f20b28d63939",
   "metadata": {
    "tags": []
   },
   "outputs": [],
   "source": [
    "# insert libraries\n",
    "import pandas_datareader as pdr  "
   ]
  },
  {
   "cell_type": "code",
   "execution_count": 12,
   "id": "83a07feb-e5f1-4bdf-be6d-a27d8f9fcb89",
   "metadata": {
    "tags": []
   },
   "outputs": [
    {
     "data": {
      "text/plain": [
       "(5035, 218)"
      ]
     },
     "execution_count": 12,
     "metadata": {},
     "output_type": "execute_result"
    }
   ],
   "source": [
    " df.shape"
   ]
  },
  {
   "cell_type": "code",
   "execution_count": 13,
   "id": "04255c6c-f73f-4f23-b9fa-f666d311305b",
   "metadata": {
    "tags": []
   },
   "outputs": [],
   "source": [
    "df1= df.reset_index()['MCD - Close']"
   ]
  },
  {
   "cell_type": "code",
   "execution_count": 14,
   "id": "307505d0-0526-46d4-800d-b2f17eb4a5fe",
   "metadata": {},
   "outputs": [
    {
     "data": {
      "text/plain": [
       "0        22.530001\n",
       "1        22.240000\n",
       "2        22.450001\n",
       "3        22.370001\n",
       "4        22.059999\n",
       "           ...    \n",
       "5030    293.700012\n",
       "5031    293.040009\n",
       "5032    294.519989\n",
       "5033    293.299988\n",
       "5034    289.910004\n",
       "Name: MCD - Close, Length: 5035, dtype: float64"
      ]
     },
     "execution_count": 14,
     "metadata": {},
     "output_type": "execute_result"
    }
   ],
   "source": [
    "df1"
   ]
  },
  {
   "cell_type": "code",
   "execution_count": 15,
   "id": "4c90e735-e29e-411b-80ff-42c57e14b225",
   "metadata": {
    "tags": []
   },
   "outputs": [
    {
     "data": {
      "text/plain": [
       "[<matplotlib.lines.Line2D at 0x7fc7a8e7f430>]"
      ]
     },
     "execution_count": 15,
     "metadata": {},
     "output_type": "execute_result"
    },
    {
     "data": {
      "image/png": "[encoded data removed]",
      "text/plain": [
       "<Figure size 640x480 with 1 Axes>"
      ]
     },
     "metadata": {},
     "output_type": "display_data"
    }
   ],
   "source": [
    "import matplotlib.pyplot as plt\n",
    "plt.plot(df1)"
   ]
  },
  {
   "cell_type": "code",
   "execution_count": 16,
   "id": "fa3985ac-6a47-46d0-bfb6-33b4ac6bdb02",
   "metadata": {
    "tags": []
   },
   "outputs": [],
   "source": [
    "from sklearn.preprocessing import MinMaxScaler"
   ]
  },
  {
   "cell_type": "code",
   "execution_count": 17,
   "id": "09731598-0dcb-49f1-b034-759aae532851",
   "metadata": {},
   "outputs": [],
   "source": [
    "from sklearn.model_selection import train_test_split\n",
    "from sklearn.svm import SVC\n",
    "from sklearn.preprocessing import LabelEncoder, StandardScaler\n",
    "from sklearn.metrics import accuracy_score\n",
    "from sklearn import svm\n",
    "from sklearn.metrics import confusion_matrix, classification_report, accuracy_score\n",
    "from sklearn.preprocessing import StandardScaler, LabelEncoder\n",
    "from sklearn.model_selection import train_test_split\n",
    "import matplotlib.pyplot as plt\n",
    "from sklearn.svm import SVR"
   ]
  },
  {
   "cell_type": "markdown",
   "id": "4bb93e8a-ee4d-484c-8fb1-5b6d026f4685",
   "metadata": {},
   "source": [
    "## SVM Algorithm o predict MCD"
   ]
  },
  {
   "cell_type": "code",
   "execution_count": 18,
   "id": "f133a61e-5570-4e16-8a07-9d6149b17f90",
   "metadata": {},
   "outputs": [],
   "source": [
    "X = df['Date']\n",
    "y = df['MCD - Close']\n",
    "X_train, X_test, y_train, y_test = train_test_split(X, y, test_size=0.2, random_state=1)\n",
    "\n",
    "# Reshape the target variable to a 1D array\n",
    "y_train = np.array(y_train).reshape(-1)\n",
    "\n",
    "\n",
    "X_train = np.array(X_train).reshape(-1, 1)\n",
    "X_test = np.array(X_test).reshape(-1, 1)"
   ]
  },
  {
   "cell_type": "code",
   "execution_count": 19,
   "id": "408ee173-f644-4a76-9109-a97e654f104f",
   "metadata": {},
   "outputs": [],
   "source": [
    "# Scale the feature values\n",
    "scaler = StandardScaler()\n",
    "X_train = scaler.fit_transform(X_train)\n",
    "X_test = scaler.transform(X_test)"
   ]
  },
  {
   "cell_type": "code",
   "execution_count": 20,
   "id": "7b3444c5-5649-4e13-b2d9-8134f9faeb44",
   "metadata": {},
   "outputs": [
    {
     "data": {
      "text/plain": [
       "array([91.63772779, 86.06946087, 28.36682887, ..., 70.02895249,\n",
       "       81.16845952, 43.07418409])"
      ]
     },
     "execution_count": 20,
     "metadata": {},
     "output_type": "execute_result"
    }
   ],
   "source": [
    "# Train the SVM model\n",
    "svm = SVR(kernel='rbf')  # You can try different kernel types like 'linear', 'poly', 'sigmoid', etc.\n",
    "svm.fit(X_train, y_train)\n",
    "\n",
    "# Make predictions on the test set\n",
    "y_pred = svm.predict(X_test)\n",
    "y_pred"
   ]
  },
  {
   "cell_type": "code",
   "execution_count": 21,
   "id": "83107e3c-8883-4514-af6a-b2bb0c8745b3",
   "metadata": {},
   "outputs": [
    {
     "data": {
      "image/png": "[encoded data removed]",
      "text/plain": [
       "<Figure size 800x600 with 1 Axes>"
      ]
     },
     "metadata": {},
     "output_type": "display_data"
    }
   ],
   "source": [
    "import matplotlib.pyplot as plt\n",
    "\n",
    "\n",
    "plt.figure(figsize=(8, 6))\n",
    "plt.scatter(y_test, y_pred, color='blue', label='Predicted')\n",
    "plt.plot([min(y_test), max(y_test)], [min(y_test), max(y_test)], color='red', linestyle='--', label='Ideal')\n",
    "plt.xlabel('Actual Values')\n",
    "plt.ylabel('Predicted Values')\n",
    "plt.title('Actual vs. Predicted Values')\n",
    "plt.legend()\n",
    "plt.show()"
   ]
  },
  {
   "cell_type": "code",
   "execution_count": 22,
   "id": "207d0792-c4e0-4ef7-a278-87a172891e47",
   "metadata": {
    "tags": []
   },
   "outputs": [],
   "source": [
    "import pandas as pd\n",
    "import numpy as np\n",
    "from sklearn.svm import SVR\n",
    "from sklearn.model_selection import train_test_split\n",
    "from sklearn.preprocessing import MinMaxScaler\n",
    "from pandas_datareader import data as pdr\n",
    "import yfinance as yf\n",
    "import matplotlib.pyplot as plt"
   ]
  },
  {
   "cell_type": "code",
   "execution_count": 23,
   "id": "3075381b-e0de-428f-99b4-798b1a1ebb36",
   "metadata": {
    "tags": []
   },
   "outputs": [
    {
     "name": "stdout",
     "output_type": "stream",
     "text": [
      "[*********************100%***********************]  1 of 1 completed\n"
     ]
    }
   ],
   "source": [
    "yf.pdr_override()\n",
    "\n",
    "# Define the start and end dates for the data (10 years to train the model)\n",
    "start_date = \"2013-06-01\"\n",
    "end_date = \"2023-06-16\"\n",
    "\n",
    "# Fetch the stock data for Dow Jones Industrial Average (DJI)\n",
    "MCD_data = pdr.get_data_yahoo(\"^DJI\", start=start_date, end=end_date)\n",
    "\n",
    "\n",
    "# predict for 7 days (1 week) June 17-23, 2023"
   ]
  },
  {
   "cell_type": "code",
   "execution_count": 24,
   "id": "09a7a2ca-c0b3-48d1-82f5-eab5bee9b252",
   "metadata": {
    "tags": []
   },
   "outputs": [],
   "source": [
    "# Extract the \"Close\" prices as the target variable\n",
    "target = MCD_data[\"Close\" ].values\n",
    "\n",
    "# Create a feature matrix using the last 10 years of data\n",
    "features = np.arange(len(target)).reshape(-1, 1)\n",
    "\n",
    "# Scale the feature matrix using MinMaxScaler\n",
    "scaler = MinMaxScaler(feature_range=(0, 1))\n",
    "features_scaled = scaler.fit_transform(features)"
   ]
  },
  {
   "cell_type": "code",
   "execution_count": 25,
   "id": "13818dcc-61e2-4148-b065-9b3dc28d05cb",
   "metadata": {
    "tags": []
   },
   "outputs": [],
   "source": [
    "# Select one stock from the listings\n",
    "stock_symbol = 'MCD'  # Change this to the desired stock symbol"
   ]
  },
  {
   "cell_type": "code",
   "execution_count": 26,
   "id": "3904591b-4bbb-42f0-985e-161a71358c2b",
   "metadata": {
    "tags": []
   },
   "outputs": [
    {
     "name": "stdout",
     "output_type": "stream",
     "text": [
      "[*********************100%***********************]  1 of 1 completed\n"
     ]
    }
   ],
   "source": [
    "# Fetch the stock data for the selected stock\n",
    "stock_data = pdr.get_data_yahoo(stock_symbol, start=start_date, end=end_date)"
   ]
  },
  {
   "cell_type": "code",
   "execution_count": 27,
   "id": "0fc39be7-a6ff-42ae-848b-6d144a92a41f",
   "metadata": {
    "tags": []
   },
   "outputs": [],
   "source": [
    "# Extract the \"Close\" prices as the target variable\n",
    "target = stock_data[\"Close\"].values"
   ]
  },
  {
   "cell_type": "code",
   "execution_count": 28,
   "id": "2a486e6b-3ce6-47cb-aa49-39a3605230af",
   "metadata": {
    "tags": []
   },
   "outputs": [],
   "source": [
    "# Create a feature matrix using the last 10 years of data\n",
    "features = np.arange(len(target)).reshape(-1, 1)"
   ]
  },
  {
   "cell_type": "code",
   "execution_count": 29,
   "id": "1d76d41b-fc62-4c7e-aab1-81d42e26f30e",
   "metadata": {
    "tags": []
   },
   "outputs": [],
   "source": [
    "# Scale the feature matrix using MinMaxScaler\n",
    "scaler = MinMaxScaler(feature_range=(0, 1))\n",
    "features_scaled = scaler.fit_transform(features)"
   ]
  },
  {
   "cell_type": "code",
   "execution_count": 30,
   "id": "0722e91e-826b-4218-822d-e6ebead2e930",
   "metadata": {
    "tags": []
   },
   "outputs": [],
   "source": [
    "# Selecting the features (X) and the target variable (y)\n",
    "X = df[['Date']]\n",
    "y = df['MCD - Close']"
   ]
  },
  {
   "cell_type": "code",
   "execution_count": 31,
   "id": "a1d5e880-3bb4-4bc4-bd91-3c42c4511215",
   "metadata": {
    "tags": []
   },
   "outputs": [],
   "source": [
    "# Split the data into training and testing sets\n",
    "X_train, X_test, y_train, y_test = train_test_split(features_scaled, target, test_size=0.2, random_state=1)"
   ]
  },
  {
   "cell_type": "code",
   "execution_count": 32,
   "id": "da3c5335-eb83-4c54-8d00-9a3041c3114f",
   "metadata": {
    "tags": []
   },
   "outputs": [
    {
     "data": {
      "text/html": [
       "<style>#sk-container-id-1 {color: black;background-color: white;}#sk-container-id-1 pre{padding: 0;}#sk-container-id-1 div.sk-toggleable {background-color: white;}#sk-container-id-1 label.sk-toggleable__label {cursor: pointer;display: block;width: 100%;margin-bottom: 0;padding: 0.3em;box-sizing: border-box;text-align: center;}#sk-container-id-1 label.sk-toggleable__label-arrow:before {content: \"▸\";float: left;margin-right: 0.25em;color: #696969;}#sk-container-id-1 label.sk-toggleable__label-arrow:hover:before {color: black;}#sk-container-id-1 div.sk-estimator:hover label.sk-toggleable__label-arrow:before {color: black;}#sk-container-id-1 div.sk-toggleable__content {max-height: 0;max-width: 0;overflow: hidden;text-align: left;background-color: #f0f8ff;}#sk-container-id-1 div.sk-toggleable__content pre {margin: 0.2em;color: black;border-radius: 0.25em;background-color: #f0f8ff;}#sk-container-id-1 input.sk-toggleable__control:checked~div.sk-toggleable__content {max-height: 200px;max-width: 100%;overflow: auto;}#sk-container-id-1 input.sk-toggleable__control:checked~label.sk-toggleable__label-arrow:before {content: \"▾\";}#sk-container-id-1 div.sk-estimator input.sk-toggleable__control:checked~label.sk-toggleable__label {background-color: #d4ebff;}#sk-container-id-1 div.sk-label input.sk-toggleable__control:checked~label.sk-toggleable__label {background-color: #d4ebff;}#sk-container-id-1 input.sk-hidden--visually {border: 0;clip: rect(1px 1px 1px 1px);clip: rect(1px, 1px, 1px, 1px);height: 1px;margin: -1px;overflow: hidden;padding: 0;position: absolute;width: 1px;}#sk-container-id-1 div.sk-estimator {font-family: monospace;background-color: #f0f8ff;border: 1px dotted black;border-radius: 0.25em;box-sizing: border-box;margin-bottom: 0.5em;}#sk-container-id-1 div.sk-estimator:hover {background-color: #d4ebff;}#sk-container-id-1 div.sk-parallel-item::after {content: \"\";width: 100%;border-bottom: 1px solid gray;flex-grow: 1;}#sk-container-id-1 div.sk-label:hover label.sk-toggleable__label {background-color: #d4ebff;}#sk-container-id-1 div.sk-serial::before {content: \"\";position: absolute;border-left: 1px solid gray;box-sizing: border-box;top: 0;bottom: 0;left: 50%;z-index: 0;}#sk-container-id-1 div.sk-serial {display: flex;flex-direction: column;align-items: center;background-color: white;padding-right: 0.2em;padding-left: 0.2em;position: relative;}#sk-container-id-1 div.sk-item {position: relative;z-index: 1;}#sk-container-id-1 div.sk-parallel {display: flex;align-items: stretch;justify-content: center;background-color: white;position: relative;}#sk-container-id-1 div.sk-item::before, #sk-container-id-1 div.sk-parallel-item::before {content: \"\";position: absolute;border-left: 1px solid gray;box-sizing: border-box;top: 0;bottom: 0;left: 50%;z-index: -1;}#sk-container-id-1 div.sk-parallel-item {display: flex;flex-direction: column;z-index: 1;position: relative;background-color: white;}#sk-container-id-1 div.sk-parallel-item:first-child::after {align-self: flex-end;width: 50%;}#sk-container-id-1 div.sk-parallel-item:last-child::after {align-self: flex-start;width: 50%;}#sk-container-id-1 div.sk-parallel-item:only-child::after {width: 0;}#sk-container-id-1 div.sk-dashed-wrapped {border: 1px dashed gray;margin: 0 0.4em 0.5em 0.4em;box-sizing: border-box;padding-bottom: 0.4em;background-color: white;}#sk-container-id-1 div.sk-label label {font-family: monospace;font-weight: bold;display: inline-block;line-height: 1.2em;}#sk-container-id-1 div.sk-label-container {text-align: center;}#sk-container-id-1 div.sk-container {/* jupyter's `normalize.less` sets `[hidden] { display: none; }` but bootstrap.min.css set `[hidden] { display: none !important; }` so we also need the `!important` here to be able to override the default hidden behavior on the sphinx rendered scikit-learn.org. See: https://github.com/scikit-learn/scikit-learn/issues/21755 */display: inline-block !important;position: relative;}#sk-container-id-1 div.sk-text-repr-fallback {display: none;}</style><div id=\"sk-container-id-1\" class=\"sk-top-container\"><div class=\"sk-text-repr-fallback\"><pre>SVR(kernel=&#x27;linear&#x27;)</pre><b>In a Jupyter environment, please rerun this cell to show the HTML representation or trust the notebook. <br />On GitHub, the HTML representation is unable to render, please try loading this page with nbviewer.org.</b></div><div class=\"sk-container\" hidden><div class=\"sk-item\"><div class=\"sk-estimator sk-toggleable\"><input class=\"sk-toggleable__control sk-hidden--visually\" id=\"sk-estimator-id-1\" type=\"checkbox\" checked><label for=\"sk-estimator-id-1\" class=\"sk-toggleable__label sk-toggleable__label-arrow\">SVR</label><div class=\"sk-toggleable__content\"><pre>SVR(kernel=&#x27;linear&#x27;)</pre></div></div></div></div></div>"
      ],
      "text/plain": [
       "SVR(kernel='linear')"
      ]
     },
     "execution_count": 32,
     "metadata": {},
     "output_type": "execute_result"
    }
   ],
   "source": [
    "# Initialize and train the SVR model\n",
    "svr = SVR(kernel=\"linear\")\n",
    "svr.fit(X_train, y_train)"
   ]
  },
  {
   "cell_type": "code",
   "execution_count": 33,
   "id": "96133030-06d1-44dc-ae90-f0bc07fa0a8c",
   "metadata": {
    "tags": []
   },
   "outputs": [],
   "source": [
    "# Predict on the test set\n",
    "predictions = svr.predict(X_test)"
   ]
  },
  {
   "cell_type": "code",
   "execution_count": 34,
   "id": "ca0d1315-6eaf-4664-a3b2-5a7217312527",
   "metadata": {
    "tags": []
   },
   "outputs": [
    {
     "name": "stdout",
     "output_type": "stream",
     "text": [
      "Predicted prices: [107.13315215 151.91170035 138.13911849 129.52242625  86.86273679\n",
      " 168.08565545 142.58872186 117.44493138 219.85643752 131.07625599\n",
      " 226.00112789  81.56558993 135.59648799 176.98486219  84.67324942\n",
      " 147.74461147 203.18808204  88.69908104 212.22854603 137.00906049\n",
      " 102.4716629  171.26394357 115.11418676 130.36996974 222.89346839\n",
      " 226.77804276 237.01919337  81.42433268 126.2735095  193.93573217\n",
      " 159.82210634 120.69384813 251.35680423 158.40953384 109.60515402\n",
      " 148.59215497 187.86167043 227.41370038 150.85227097  97.24514466\n",
      " 251.14491836 161.30530746  93.64308479 198.45596417 101.0590904\n",
      "  95.47942903 253.40503435 213.07608953 128.74551137 160.59902121\n",
      " 167.80314095 210.81597353 232.92273313 172.88840195 125.77910912\n",
      " 222.18718214 231.65141788 124.50779388 132.27694262 217.17254977\n",
      " 234.68844875 163.56542346 230.73324576 110.45269752 126.62665262\n",
      " 198.03219242 254.88823548 255.87703623 147.10895385 216.6781494\n",
      " 187.64978455 137.78597536 165.47239633 118.22184626 102.11851978\n",
      " 123.51899313 179.73937856  93.21931304 119.28127563 109.18138227\n",
      " 187.2260128  220.20958064 172.4646302  259.62035335 194.64201842\n",
      " 222.04592489 257.64275185 103.3192064  206.36637016 225.36547026\n",
      " 152.40610072 250.72114661 245.84777149 136.51466011 106.9918949\n",
      " 180.30440756 165.04862458  85.7326788   88.34593792 209.8978014\n",
      " 121.32950576 160.88153571 214.06489027 182.14075181 202.97619616\n",
      " 173.0296592  218.93826539 195.1364188  192.3112738   95.62068628\n",
      " 202.55242441 169.28634208 198.24407829 179.88063581 215.47746277\n",
      " 239.349938   254.18194923 182.07012319 169.56885657 239.70308112\n",
      " 177.83240569 101.76537665 202.69368166 199.93916529 192.52315967\n",
      " 248.81417373 155.51376022 193.79447492 231.1570175  206.93139916\n",
      " 139.12791923 245.00022799 189.55675743 215.2655769  257.07772285\n",
      " 149.29844122 245.28274249 103.81360678 132.34757124 199.37413629\n",
      " 228.33187251 189.62738605 226.49552826 241.18628224 230.02695951\n",
      " 188.42669943 144.7075806  204.60065453 194.35950392 245.77714286\n",
      " 116.10298751 142.30620736 124.43716525 122.600821   144.63695198\n",
      " 247.11908674 140.39923448  88.76970967 245.21211386 251.99246186\n",
      "  82.3425048  170.98142907 224.58855539 215.75997727 119.77567601\n",
      " 177.40863394 112.14778452 170.4870287  185.88406893 240.69188187\n",
      " 176.84360494 208.76774341 244.08205586 172.39400157 178.11492019\n",
      " 232.71084725 257.5014946  102.7541774  207.14328503 115.04355814\n",
      " 240.26811012 140.82300623 120.62321951 156.57318959  94.91440004\n",
      " 165.61365358  89.61725317 183.34143843 189.41550018 101.41223353\n",
      " 244.57645624 237.089822   136.93843186 201.70488091 100.56469003\n",
      " 161.02279296 250.08548898 245.35337111 115.53795851 196.12521954\n",
      " 181.99949456 188.3560708  246.83657224 140.46986311 137.92723261\n",
      " 123.37773588 135.38460211 221.41026727 225.22421301 100.91783315\n",
      " 133.97202962 215.68934865 139.62231961  89.54662454 143.36563673\n",
      " 141.81180698 152.05295759 127.05042437 102.61292015 134.04265824\n",
      "  83.96696317 151.4879286   85.23827842 240.40936737 136.44403149\n",
      " 174.58348894 250.15611761 246.13028599 112.35967039 180.44566481\n",
      " 205.87196978 126.48539537 162.08222233 228.19061526 223.74101189\n",
      " 120.19944776 120.34070501 182.91766668 161.79970783 229.32067326\n",
      " 193.30007455 101.27097628 194.92453292 258.98469572  85.09702117\n",
      " 197.96156379 160.81090708 198.59722142 230.52135988 218.16135052\n",
      " 166.2493112  127.33293887 244.92959936 244.50582761 249.94423173\n",
      " 227.76684351 253.8288061  224.51792676 182.98829531 241.89256849\n",
      " 235.88913537 136.79717461 184.96589681 116.38550201 220.49209514\n",
      " 162.50599408 199.23287904 190.75744405 236.94856475 246.27154324\n",
      " 247.89600161 164.41296696 115.46732989 215.90123452 113.13658526\n",
      " 119.56379013  84.46136355 135.10208761 222.39906801 168.15628408\n",
      " 239.20868075 126.20288087  88.98159554  96.60948703 201.77550954\n",
      " 220.70398102 171.75834395  96.39760116 107.06252352 120.48196226\n",
      " 122.74207825 203.82373966 156.92633271 183.05892393 224.44729814\n",
      "  97.59828778 154.38370222 135.80837386 111.15898377  90.04102492\n",
      " 187.43789868 146.9676966   94.84377141 124.93156563 220.77460964\n",
      " 167.0968547  118.92813251 230.23884538 174.79537482 153.67741597\n",
      " 156.78507546 140.18734861 145.13135235 175.64291832 135.31397349\n",
      "  95.83257216 135.66711661 146.4026676  258.27840947 247.26034399\n",
      " 255.8064076  248.31977336 172.04085845 242.03382574 143.64815123\n",
      " 145.62575273 151.2054141  119.70504738 233.06399038 197.74967792\n",
      " 236.2422785  118.36310351 221.69278177 181.92886594 246.20091461\n",
      " 136.09088836 197.11402029 197.82030654 178.46806331 159.11582009\n",
      " 239.49119525 150.6403851  232.78147588 138.20974711  89.89976767\n",
      " 133.76014374 242.81074062 237.44296512 158.33890521 127.75671062\n",
      " 126.69728125 177.12611944 175.99606144 185.38966856 192.94693142\n",
      " 224.30604089 123.66025038 104.37863577 226.56615688 117.65681726\n",
      " 238.36113725 118.78687526 160.03399221 207.70831403 208.97962928\n",
      " 259.40846747 245.56525699 191.53435892 248.03725886 228.54375838\n",
      " 167.52062645 188.0735563  165.54302495 222.46969664 231.29827475\n",
      " 225.15358439 220.63335239 183.55332431 236.10102125 162.78850858\n",
      " 220.56272377 154.31307359 189.90990055 214.91243377 208.55585753\n",
      " 114.83167226 230.59198851  98.16331678 227.13118588 198.95036454\n",
      " 112.07715589 178.96246369 160.38713534 165.4017677  238.784909\n",
      " 168.65068445 254.25257785  98.65771716 167.87376958 150.28724197\n",
      " 124.36653663 169.3569707  100.2115469  199.09162179 206.29574153\n",
      " 127.4035675  163.21228033 145.97889585 227.34307176 122.53019238\n",
      " 113.91350014 165.9667967  109.11075364 247.33097261 172.32337295\n",
      " 218.86763677 148.87466947 130.93499874 180.72817931 159.89273496\n",
      " 247.47222986 130.79374149 246.97782949 200.29230841 185.81344031\n",
      " 207.84957128  84.95576392 254.60572098 239.27930937 213.5704899\n",
      " 124.22527938  94.70251416 189.69801468 105.15555065 224.37666951\n",
      " 176.27857594 174.08908857  92.79554129 204.24751141 212.65231778\n",
      " 221.76341039 225.78924201  86.43896504 221.33963864  90.32353942\n",
      " 135.03145899 153.74804459 236.17164987 150.00472747 175.50166107\n",
      " 112.50092764 111.37086964 238.57302312  87.71028029 134.60768724\n",
      "  99.15211753 234.33530563 163.00039446 149.65158435 255.66515035\n",
      " 187.72041318 114.19601464 164.34233833 202.34053854 105.5793224\n",
      " 253.75817748 219.36203714 133.12448612 152.54735797 252.9812626\n",
      " 105.72057965 121.54139163 207.63768541 111.65338414 246.41280049\n",
      " 104.80240752 249.09668823 166.60245433 232.21644688 143.08312223\n",
      " 221.26901002  97.45703053 195.63081917 116.52675926 192.0287593\n",
      " 120.90573401  98.23394541 117.93933176 107.2744094  122.95396413\n",
      " 242.45759749 202.62305304 141.67054973 170.13388557 190.96932993\n",
      " 214.7005479  246.55405774 124.0133935  200.99859466 183.27080981\n",
      " 256.72457973 231.86330375 157.70324759 185.46029718 117.02115963\n",
      " 237.3723365 ]\n"
     ]
    }
   ],
   "source": [
    "# Print the predicted prices\n",
    "print(\"Predicted prices:\", predictions)"
   ]
  },
  {
   "cell_type": "code",
   "execution_count": 35,
   "id": "46d048fa-4fec-484a-bc46-b2cf03e6f1df",
   "metadata": {
    "tags": []
   },
   "outputs": [
    {
     "data": {
      "image/png": "[encoded data removed]",
      "text/plain": [
       "<Figure size 640x480 with 1 Axes>"
      ]
     },
     "metadata": {},
     "output_type": "display_data"
    },
    {
     "data": {
      "text/plain": [
       "<Figure size 3000x600 with 0 Axes>"
      ]
     },
     "metadata": {},
     "output_type": "display_data"
    }
   ],
   "source": [
    "# Plotting the actual prices\n",
    "plt.plot(y_test, label='Actual')\n",
    "# Plotting the predicted prices\n",
    "plt.plot(predictions, label='Predicted')\n",
    "\n",
    "# Set the x-axis labels\n",
    "plt.xticks(range(len(y_test)))\n",
    "\n",
    "\n",
    "# Set the plot title and labels\n",
    "plt.title(\"Stock Price Prediction\")\n",
    "plt.xlabel(\"Time\")\n",
    "plt.ylabel(\"Price\")\n",
    "\n",
    "# Show the legend\n",
    "plt.legend()\n",
    "\n",
    "plt.figure(figsize=(30, 6))\n",
    "\n",
    "\n",
    "# Display the plot\n",
    "plt.show()\n"
   ]
  },
  {
   "cell_type": "code",
   "execution_count": 36,
   "id": "c074cd09-5133-41c5-8161-cdc2d90386dd",
   "metadata": {
    "tags": []
   },
   "outputs": [],
   "source": [
    "def get_latest_stock_data(stock_symbol):\n",
    "    # Use yfinance to get the historical data for the specified stock symbol\n",
    "    stock_data = yf.download(MCD, period='1d')\n",
    " # Return the latest available data (e.g., the most recent trading day)\n",
    "    latest_data = stock_data.iloc[-1]\n",
    "\n",
    "    return latest_data"
   ]
  },
  {
   "cell_type": "code",
   "execution_count": 37,
   "id": "e7d5ae87-7052-4c12-bf37-c2f2c042d5be",
   "metadata": {
    "tags": []
   },
   "outputs": [
    {
     "name": "stdout",
     "output_type": "stream",
     "text": [
      "[*********************100%***********************]  1 of 1 completed\n"
     ]
    }
   ],
   "source": [
    "import yfinance as yf\n",
    "from sklearn.svm import SVR\n",
    "import numpy as np\n",
    "\n",
    "def get_stock_data(stock_symbol, start_date, end_date):\n",
    "    stock_data = yf.download(stock_symbol, start=start_date, end=end_date)\n",
    "    return stock_data\n",
    "\n",
    "# Specify the stock symbol, start date, and end date\n",
    "stock_symbol = 'MCD'\n",
    "start_date = '2023-06-17'\n",
    "end_date = '2023-06-23'\n",
    "\n",
    "# Get the stock data for the specified date range\n",
    "stock_data = get_stock_data(stock_symbol, start_date, end_date)\n",
    "\n",
    "# Extract the 'Close' prices as the target variable\n",
    "prices = stock_data['Close'].values\n"
   ]
  },
  {
   "cell_type": "code",
   "execution_count": 38,
   "id": "f120da4f-87fc-4ecc-88b0-6a1d6cb23fea",
   "metadata": {
    "tags": []
   },
   "outputs": [
    {
     "name": "stdout",
     "output_type": "stream",
     "text": [
      "Index(['Open', 'High', 'Low', 'Close', 'Adj Close', 'Volume'], dtype='object')\n"
     ]
    }
   ],
   "source": [
    "print(stock_data.columns)"
   ]
  },
  {
   "cell_type": "code",
   "execution_count": 39,
   "id": "b7ba5934-1b5d-4f96-896e-38a8876e7001",
   "metadata": {
    "tags": []
   },
   "outputs": [
    {
     "name": "stdout",
     "output_type": "stream",
     "text": [
      "Predicted Prices:\n",
      "Day 1: 293.5299774169922\n",
      "Day 2: 293.65996704101565\n",
      "Day 3: 293.7899566650391\n",
      "Day 4: 293.9199462890625\n",
      "Day 5: 294.04993591308596\n",
      "Day 6: 294.1799255371094\n",
      "Day 7: 294.30991516113284\n"
     ]
    }
   ],
   "source": [
    "# Prepare the features (X) and target variable (y)\n",
    "X = np.arange(len(prices)).reshape(-1, 1)\n",
    "y = prices\n",
    "\n",
    "# Train the SVR model\n",
    "svr = SVR(kernel='linear')\n",
    "svr.fit(X, y)\n",
    "\n",
    "# Predict the stock prices for the next 7 days\n",
    "future_X = np.arange(len(prices), len(prices) + 7).reshape(-1, 1)\n",
    "predicted_prices = svr.predict(future_X)\n",
    "\n",
    "# Print the predicted prices\n",
    "print(\"Predicted Prices:\")\n",
    "for i in range(len(predicted_prices)):\n",
    "    print(f\"Day {i+1}: {predicted_prices[i]}\")"
   ]
  },
  {
   "cell_type": "code",
   "execution_count": 40,
   "id": "9ec73366-7a2f-4bdd-8ff4-207a6aa8336c",
   "metadata": {
    "tags": []
   },
   "outputs": [
    {
     "name": "stdout",
     "output_type": "stream",
     "text": [
      "Predicted Prices:\n",
      "Day 1: 293.5299774169922\n",
      "Day 2: 293.65996704101565\n",
      "Day 3: 293.7899566650391\n",
      "Day 4: 293.9199462890625\n",
      "Day 5: 294.04993591308596\n",
      "Day 6: 294.1799255371094\n",
      "Day 7: 294.30991516113284\n",
      "\n",
      "Actual Prices:\n",
      "Day 1: 293.0400085449219\n",
      "Day 2: 294.5199890136719\n",
      "Day 3: 293.29998779296875\n"
     ]
    }
   ],
   "source": [
    "# Prepare the features (X) and target variable (y)\n",
    "X = np.arange(len(prices)).reshape(-1, 1)\n",
    "y = prices\n",
    "\n",
    "# Train the SVR model\n",
    "svr = SVR(kernel='linear')\n",
    "svr.fit(X, y)\n",
    "\n",
    "# Predict the stock prices for the next 7 days\n",
    "future_X = np.arange(len(prices), len(prices) + 7).reshape(-1, 1)\n",
    "predicted_prices = svr.predict(future_X)\n",
    "\n",
    "# Print the predicted prices\n",
    "print(\"Predicted Prices:\")\n",
    "for i in range(len(predicted_prices)):\n",
    "    print(f\"Day {i+1}: {predicted_prices[i]}\")\n",
    "\n",
    "# Compare with actual prices\n",
    "actual_prices = stock_data['Close'].values[-7:]\n",
    "\n",
    "# Print the actual prices\n",
    "print(\"\\nActual Prices:\")\n",
    "for i in range(len(actual_prices)):\n",
    "    print(f\"Day {i+1}: {actual_prices[i]}\")"
   ]
  }
 ],
 "metadata": {
  "kernelspec": {
   "display_name": "Python 3 (ipykernel)",
   "language": "python",
   "name": "python3"
  },
  "language_info": {
   "codemirror_mode": {
    "name": "ipython",
    "version": 3
   },
   "file_extension": ".py",
   "mimetype": "text/x-python",
   "name": "python",
   "nbconvert_exporter": "python",
   "pygments_lexer": "ipython3",
   "version": "3.10.11"
  }
 },
 "nbformat": 4,
 "nbformat_minor": 5
}
