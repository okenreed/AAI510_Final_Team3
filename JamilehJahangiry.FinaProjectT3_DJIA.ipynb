{
 "cells": [
  {
   "cell_type": "code",
   "execution_count": 1,
   "id": "66efa165-4a76-4d22-8620-634370b6a439",
   "metadata": {},
   "outputs": [],
   "source": [
    "# import libraries\n",
    "import pandas as pd\n",
    "import matplotlib.pyplot as plt\n",
    "import numpy as np\n",
    "import pandas_ta as ta # pip install pandas-ta\n",
    "import yfinance as yf # pip install yfinance"
   ]
  },
  {
   "cell_type": "code",
   "execution_count": 2,
   "id": "c37404e4-2382-4138-8b16-c4af93297d46",
   "metadata": {},
   "outputs": [],
   "source": [
    "listings = ['MMM', 'DJI','AXP', 'AMGN', 'AAPL', 'BA', 'CAT', 'CVX', 'CSCO', 'KO', 'DIS', 'DOW', 'GS', 'HD', 'HON', 'IBM', 'INTC', 'JNJ', 'JPM', 'MCD', 'MRK', 'MSFT', 'NKE', 'PG', 'CRM', 'TRV', 'UNH', 'VZ', 'V', 'WBA', 'WMT', 'DIA'] "
   ]
  },
  {
   "cell_type": "code",
   "execution_count": 3,
   "id": "3b15d00a-9e9d-48cb-b37a-fbde60841d70",
   "metadata": {},
   "outputs": [
    {
     "name": "stdout",
     "output_type": "stream",
     "text": [
      "[*********************100%***********************]  32 of 32 completed\n"
     ]
    }
   ],
   "source": [
    "df = yf.download(tickers=listings, period='10y', interval= '1d', auto_adjust=False )"
   ]
  },
  {
   "cell_type": "code",
   "execution_count": 4,
   "id": "eb5cd394-ab69-4a02-8bba-3d8feca638f6",
   "metadata": {},
   "outputs": [],
   "source": [
    "# stack and unstack indexed columns\n",
    "df = df.stack(level=0).unstack(level=1)\n",
    "\n",
    "# set each column name to TICKER - VALUE\n",
    "df.columns = df.columns.map(lambda x: f'{x[0]} - {x[1]}')\n",
    "\n",
    "# create date column from index\n",
    "df = df.reset_index()\n",
    "df = df.rename(columns={'index': 'Date'})"
   ]
  },
  {
   "cell_type": "code",
   "execution_count": 5,
   "id": "389f1a8f-cc3d-45f1-82f3-93ef02c172a7",
   "metadata": {
    "tags": []
   },
   "outputs": [],
   "source": [
    "for ticker in listings:\n",
    "    col_name = f'{ticker} - Dividend'\n",
    "    div_series = yf.Ticker(ticker).dividends\n",
    "    series_df = div_series.to_frame(name=col_name)\n",
    "    series_df.index = series_df.index.tz_convert(None).floor('D')\n",
    "    df = pd.merge(df, series_df, left_on='Date', right_index=True, how='left')\n",
    "    df[col_name] = df[col_name].fillna(0)"
   ]
  },
  {
   "cell_type": "code",
   "execution_count": 6,
   "id": "fe294c30-8f42-46cd-8ca0-37fe9a2e8cac",
   "metadata": {
    "tags": []
   },
   "outputs": [
    {
     "data": {
      "text/html": [
       "<div>\n",
       "<style scoped>\n",
       "    .dataframe tbody tr th:only-of-type {\n",
       "        vertical-align: middle;\n",
       "    }\n",
       "\n",
       "    .dataframe tbody tr th {\n",
       "        vertical-align: top;\n",
       "    }\n",
       "\n",
       "    .dataframe thead th {\n",
       "        text-align: right;\n",
       "    }\n",
       "</style>\n",
       "<table border=\"1\" class=\"dataframe\">\n",
       "  <thead>\n",
       "    <tr style=\"text-align: right;\">\n",
       "      <th></th>\n",
       "      <th>Date</th>\n",
       "      <th>AAPL - Adj Close</th>\n",
       "      <th>AAPL - Close</th>\n",
       "      <th>AAPL - High</th>\n",
       "      <th>AAPL - Low</th>\n",
       "      <th>AAPL - Open</th>\n",
       "      <th>AAPL - Volume</th>\n",
       "      <th>AMGN - Adj Close</th>\n",
       "      <th>AMGN - Close</th>\n",
       "      <th>AMGN - High</th>\n",
       "      <th>...</th>\n",
       "      <th>NKE - Dividend</th>\n",
       "      <th>PG - Dividend</th>\n",
       "      <th>CRM - Dividend</th>\n",
       "      <th>TRV - Dividend</th>\n",
       "      <th>UNH - Dividend</th>\n",
       "      <th>VZ - Dividend</th>\n",
       "      <th>V - Dividend</th>\n",
       "      <th>WBA - Dividend</th>\n",
       "      <th>WMT - Dividend</th>\n",
       "      <th>DIA - Dividend</th>\n",
       "    </tr>\n",
       "  </thead>\n",
       "  <tbody>\n",
       "    <tr>\n",
       "      <th>0</th>\n",
       "      <td>2013-06-24</td>\n",
       "      <td>12.481573</td>\n",
       "      <td>14.376429</td>\n",
       "      <td>14.595000</td>\n",
       "      <td>14.216071</td>\n",
       "      <td>14.550000</td>\n",
       "      <td>480746000.0</td>\n",
       "      <td>73.601387</td>\n",
       "      <td>96.139999</td>\n",
       "      <td>97.230003</td>\n",
       "      <td>...</td>\n",
       "      <td>0.0</td>\n",
       "      <td>0.0</td>\n",
       "      <td>0.0</td>\n",
       "      <td>0.0</td>\n",
       "      <td>0.0</td>\n",
       "      <td>0.0</td>\n",
       "      <td>0.0</td>\n",
       "      <td>0.0</td>\n",
       "      <td>0.0</td>\n",
       "      <td>0.000</td>\n",
       "    </tr>\n",
       "    <tr>\n",
       "      <th>1</th>\n",
       "      <td>2013-06-25</td>\n",
       "      <td>12.484365</td>\n",
       "      <td>14.379643</td>\n",
       "      <td>14.563929</td>\n",
       "      <td>14.243929</td>\n",
       "      <td>14.489286</td>\n",
       "      <td>314162800.0</td>\n",
       "      <td>73.785118</td>\n",
       "      <td>96.379997</td>\n",
       "      <td>98.750000</td>\n",
       "      <td>...</td>\n",
       "      <td>0.0</td>\n",
       "      <td>0.0</td>\n",
       "      <td>0.0</td>\n",
       "      <td>0.0</td>\n",
       "      <td>0.0</td>\n",
       "      <td>0.0</td>\n",
       "      <td>0.0</td>\n",
       "      <td>0.0</td>\n",
       "      <td>0.0</td>\n",
       "      <td>0.000</td>\n",
       "    </tr>\n",
       "    <tr>\n",
       "      <th>2</th>\n",
       "      <td>2013-06-26</td>\n",
       "      <td>12.342971</td>\n",
       "      <td>14.216786</td>\n",
       "      <td>14.456786</td>\n",
       "      <td>14.130714</td>\n",
       "      <td>14.425000</td>\n",
       "      <td>367724000.0</td>\n",
       "      <td>76.250252</td>\n",
       "      <td>99.599998</td>\n",
       "      <td>100.169998</td>\n",
       "      <td>...</td>\n",
       "      <td>0.0</td>\n",
       "      <td>0.0</td>\n",
       "      <td>0.0</td>\n",
       "      <td>0.0</td>\n",
       "      <td>0.0</td>\n",
       "      <td>0.0</td>\n",
       "      <td>0.0</td>\n",
       "      <td>0.0</td>\n",
       "      <td>0.0</td>\n",
       "      <td>0.000</td>\n",
       "    </tr>\n",
       "    <tr>\n",
       "      <th>3</th>\n",
       "      <td>2013-06-27</td>\n",
       "      <td>12.209951</td>\n",
       "      <td>14.063571</td>\n",
       "      <td>14.335357</td>\n",
       "      <td>14.055000</td>\n",
       "      <td>14.258929</td>\n",
       "      <td>337246000.0</td>\n",
       "      <td>75.783264</td>\n",
       "      <td>98.989998</td>\n",
       "      <td>100.620003</td>\n",
       "      <td>...</td>\n",
       "      <td>0.0</td>\n",
       "      <td>0.0</td>\n",
       "      <td>0.0</td>\n",
       "      <td>0.0</td>\n",
       "      <td>0.0</td>\n",
       "      <td>0.0</td>\n",
       "      <td>0.0</td>\n",
       "      <td>0.0</td>\n",
       "      <td>0.0</td>\n",
       "      <td>0.000</td>\n",
       "    </tr>\n",
       "    <tr>\n",
       "      <th>4</th>\n",
       "      <td>2013-06-28</td>\n",
       "      <td>12.295223</td>\n",
       "      <td>14.161786</td>\n",
       "      <td>14.295357</td>\n",
       "      <td>13.888214</td>\n",
       "      <td>13.977143</td>\n",
       "      <td>578516400.0</td>\n",
       "      <td>75.530632</td>\n",
       "      <td>98.660004</td>\n",
       "      <td>99.879997</td>\n",
       "      <td>...</td>\n",
       "      <td>0.0</td>\n",
       "      <td>0.0</td>\n",
       "      <td>0.0</td>\n",
       "      <td>0.0</td>\n",
       "      <td>0.0</td>\n",
       "      <td>0.0</td>\n",
       "      <td>0.0</td>\n",
       "      <td>0.0</td>\n",
       "      <td>0.0</td>\n",
       "      <td>0.000</td>\n",
       "    </tr>\n",
       "    <tr>\n",
       "      <th>...</th>\n",
       "      <td>...</td>\n",
       "      <td>...</td>\n",
       "      <td>...</td>\n",
       "      <td>...</td>\n",
       "      <td>...</td>\n",
       "      <td>...</td>\n",
       "      <td>...</td>\n",
       "      <td>...</td>\n",
       "      <td>...</td>\n",
       "      <td>...</td>\n",
       "      <td>...</td>\n",
       "      <td>...</td>\n",
       "      <td>...</td>\n",
       "      <td>...</td>\n",
       "      <td>...</td>\n",
       "      <td>...</td>\n",
       "      <td>...</td>\n",
       "      <td>...</td>\n",
       "      <td>...</td>\n",
       "      <td>...</td>\n",
       "      <td>...</td>\n",
       "    </tr>\n",
       "    <tr>\n",
       "      <th>2513</th>\n",
       "      <td>2023-06-16</td>\n",
       "      <td>184.919998</td>\n",
       "      <td>184.919998</td>\n",
       "      <td>186.990005</td>\n",
       "      <td>184.270004</td>\n",
       "      <td>186.729996</td>\n",
       "      <td>101235600.0</td>\n",
       "      <td>229.660004</td>\n",
       "      <td>229.660004</td>\n",
       "      <td>231.949997</td>\n",
       "      <td>...</td>\n",
       "      <td>0.0</td>\n",
       "      <td>0.0</td>\n",
       "      <td>0.0</td>\n",
       "      <td>0.0</td>\n",
       "      <td>0.0</td>\n",
       "      <td>0.0</td>\n",
       "      <td>0.0</td>\n",
       "      <td>0.0</td>\n",
       "      <td>0.0</td>\n",
       "      <td>0.776</td>\n",
       "    </tr>\n",
       "    <tr>\n",
       "      <th>2514</th>\n",
       "      <td>2023-06-20</td>\n",
       "      <td>185.009995</td>\n",
       "      <td>185.009995</td>\n",
       "      <td>186.100006</td>\n",
       "      <td>184.410004</td>\n",
       "      <td>184.410004</td>\n",
       "      <td>49799100.0</td>\n",
       "      <td>228.589996</td>\n",
       "      <td>228.589996</td>\n",
       "      <td>230.839996</td>\n",
       "      <td>...</td>\n",
       "      <td>0.0</td>\n",
       "      <td>0.0</td>\n",
       "      <td>0.0</td>\n",
       "      <td>0.0</td>\n",
       "      <td>0.0</td>\n",
       "      <td>0.0</td>\n",
       "      <td>0.0</td>\n",
       "      <td>0.0</td>\n",
       "      <td>0.0</td>\n",
       "      <td>0.000</td>\n",
       "    </tr>\n",
       "    <tr>\n",
       "      <th>2515</th>\n",
       "      <td>2023-06-21</td>\n",
       "      <td>183.960007</td>\n",
       "      <td>183.960007</td>\n",
       "      <td>185.410004</td>\n",
       "      <td>182.589996</td>\n",
       "      <td>184.899994</td>\n",
       "      <td>49515700.0</td>\n",
       "      <td>227.039993</td>\n",
       "      <td>227.039993</td>\n",
       "      <td>230.000000</td>\n",
       "      <td>...</td>\n",
       "      <td>0.0</td>\n",
       "      <td>0.0</td>\n",
       "      <td>0.0</td>\n",
       "      <td>0.0</td>\n",
       "      <td>0.0</td>\n",
       "      <td>0.0</td>\n",
       "      <td>0.0</td>\n",
       "      <td>0.0</td>\n",
       "      <td>0.0</td>\n",
       "      <td>0.000</td>\n",
       "    </tr>\n",
       "    <tr>\n",
       "      <th>2516</th>\n",
       "      <td>2023-06-22</td>\n",
       "      <td>187.000000</td>\n",
       "      <td>187.000000</td>\n",
       "      <td>187.050003</td>\n",
       "      <td>183.669998</td>\n",
       "      <td>183.740005</td>\n",
       "      <td>51245300.0</td>\n",
       "      <td>229.660004</td>\n",
       "      <td>229.660004</td>\n",
       "      <td>229.880005</td>\n",
       "      <td>...</td>\n",
       "      <td>0.0</td>\n",
       "      <td>0.0</td>\n",
       "      <td>0.0</td>\n",
       "      <td>0.0</td>\n",
       "      <td>0.0</td>\n",
       "      <td>0.0</td>\n",
       "      <td>0.0</td>\n",
       "      <td>0.0</td>\n",
       "      <td>0.0</td>\n",
       "      <td>0.000</td>\n",
       "    </tr>\n",
       "    <tr>\n",
       "      <th>2517</th>\n",
       "      <td>2023-06-23</td>\n",
       "      <td>186.679993</td>\n",
       "      <td>186.679993</td>\n",
       "      <td>187.559998</td>\n",
       "      <td>185.009995</td>\n",
       "      <td>185.550003</td>\n",
       "      <td>53079300.0</td>\n",
       "      <td>227.110001</td>\n",
       "      <td>227.110001</td>\n",
       "      <td>230.539993</td>\n",
       "      <td>...</td>\n",
       "      <td>0.0</td>\n",
       "      <td>0.0</td>\n",
       "      <td>0.0</td>\n",
       "      <td>0.0</td>\n",
       "      <td>0.0</td>\n",
       "      <td>0.0</td>\n",
       "      <td>0.0</td>\n",
       "      <td>0.0</td>\n",
       "      <td>0.0</td>\n",
       "      <td>0.000</td>\n",
       "    </tr>\n",
       "  </tbody>\n",
       "</table>\n",
       "<p>2518 rows × 225 columns</p>\n",
       "</div>"
      ],
      "text/plain": [
       "           Date  AAPL - Adj Close  AAPL - Close  AAPL - High  AAPL - Low  \\\n",
       "0    2013-06-24         12.481573     14.376429    14.595000   14.216071   \n",
       "1    2013-06-25         12.484365     14.379643    14.563929   14.243929   \n",
       "2    2013-06-26         12.342971     14.216786    14.456786   14.130714   \n",
       "3    2013-06-27         12.209951     14.063571    14.335357   14.055000   \n",
       "4    2013-06-28         12.295223     14.161786    14.295357   13.888214   \n",
       "...         ...               ...           ...          ...         ...   \n",
       "2513 2023-06-16        184.919998    184.919998   186.990005  184.270004   \n",
       "2514 2023-06-20        185.009995    185.009995   186.100006  184.410004   \n",
       "2515 2023-06-21        183.960007    183.960007   185.410004  182.589996   \n",
       "2516 2023-06-22        187.000000    187.000000   187.050003  183.669998   \n",
       "2517 2023-06-23        186.679993    186.679993   187.559998  185.009995   \n",
       "\n",
       "      AAPL - Open  AAPL - Volume  AMGN - Adj Close  AMGN - Close  AMGN - High  \\\n",
       "0       14.550000    480746000.0         73.601387     96.139999    97.230003   \n",
       "1       14.489286    314162800.0         73.785118     96.379997    98.750000   \n",
       "2       14.425000    367724000.0         76.250252     99.599998   100.169998   \n",
       "3       14.258929    337246000.0         75.783264     98.989998   100.620003   \n",
       "4       13.977143    578516400.0         75.530632     98.660004    99.879997   \n",
       "...           ...            ...               ...           ...          ...   \n",
       "2513   186.729996    101235600.0        229.660004    229.660004   231.949997   \n",
       "2514   184.410004     49799100.0        228.589996    228.589996   230.839996   \n",
       "2515   184.899994     49515700.0        227.039993    227.039993   230.000000   \n",
       "2516   183.740005     51245300.0        229.660004    229.660004   229.880005   \n",
       "2517   185.550003     53079300.0        227.110001    227.110001   230.539993   \n",
       "\n",
       "      ...  NKE - Dividend  PG - Dividend  CRM - Dividend  TRV - Dividend  \\\n",
       "0     ...             0.0            0.0             0.0             0.0   \n",
       "1     ...             0.0            0.0             0.0             0.0   \n",
       "2     ...             0.0            0.0             0.0             0.0   \n",
       "3     ...             0.0            0.0             0.0             0.0   \n",
       "4     ...             0.0            0.0             0.0             0.0   \n",
       "...   ...             ...            ...             ...             ...   \n",
       "2513  ...             0.0            0.0             0.0             0.0   \n",
       "2514  ...             0.0            0.0             0.0             0.0   \n",
       "2515  ...             0.0            0.0             0.0             0.0   \n",
       "2516  ...             0.0            0.0             0.0             0.0   \n",
       "2517  ...             0.0            0.0             0.0             0.0   \n",
       "\n",
       "      UNH - Dividend  VZ - Dividend  V - Dividend  WBA - Dividend  \\\n",
       "0                0.0            0.0           0.0             0.0   \n",
       "1                0.0            0.0           0.0             0.0   \n",
       "2                0.0            0.0           0.0             0.0   \n",
       "3                0.0            0.0           0.0             0.0   \n",
       "4                0.0            0.0           0.0             0.0   \n",
       "...              ...            ...           ...             ...   \n",
       "2513             0.0            0.0           0.0             0.0   \n",
       "2514             0.0            0.0           0.0             0.0   \n",
       "2515             0.0            0.0           0.0             0.0   \n",
       "2516             0.0            0.0           0.0             0.0   \n",
       "2517             0.0            0.0           0.0             0.0   \n",
       "\n",
       "      WMT - Dividend  DIA - Dividend  \n",
       "0                0.0           0.000  \n",
       "1                0.0           0.000  \n",
       "2                0.0           0.000  \n",
       "3                0.0           0.000  \n",
       "4                0.0           0.000  \n",
       "...              ...             ...  \n",
       "2513             0.0           0.776  \n",
       "2514             0.0           0.000  \n",
       "2515             0.0           0.000  \n",
       "2516             0.0           0.000  \n",
       "2517             0.0           0.000  \n",
       "\n",
       "[2518 rows x 225 columns]"
      ]
     },
     "execution_count": 6,
     "metadata": {},
     "output_type": "execute_result"
    }
   ],
   "source": [
    "df[df['DJI - Close'] != 0]"
   ]
  },
  {
   "cell_type": "code",
   "execution_count": 7,
   "id": "3ee49e43-a20a-4736-864a-950718213a26",
   "metadata": {
    "tags": []
   },
   "outputs": [
    {
     "data": {
      "text/plain": [
       "['Date',\n",
       " 'AAPL - Adj Close',\n",
       " 'AAPL - Close',\n",
       " 'AAPL - High',\n",
       " 'AAPL - Low',\n",
       " 'AAPL - Open',\n",
       " 'AAPL - Volume',\n",
       " 'AMGN - Adj Close',\n",
       " 'AMGN - Close',\n",
       " 'AMGN - High',\n",
       " 'AMGN - Low',\n",
       " 'AMGN - Open',\n",
       " 'AMGN - Volume',\n",
       " 'AXP - Adj Close',\n",
       " 'AXP - Close',\n",
       " 'AXP - High',\n",
       " 'AXP - Low',\n",
       " 'AXP - Open',\n",
       " 'AXP - Volume',\n",
       " 'BA - Adj Close',\n",
       " 'BA - Close',\n",
       " 'BA - High',\n",
       " 'BA - Low',\n",
       " 'BA - Open',\n",
       " 'BA - Volume',\n",
       " 'CAT - Adj Close',\n",
       " 'CAT - Close',\n",
       " 'CAT - High',\n",
       " 'CAT - Low',\n",
       " 'CAT - Open',\n",
       " 'CAT - Volume',\n",
       " 'CRM - Adj Close',\n",
       " 'CRM - Close',\n",
       " 'CRM - High',\n",
       " 'CRM - Low',\n",
       " 'CRM - Open',\n",
       " 'CRM - Volume',\n",
       " 'CSCO - Adj Close',\n",
       " 'CSCO - Close',\n",
       " 'CSCO - High',\n",
       " 'CSCO - Low',\n",
       " 'CSCO - Open',\n",
       " 'CSCO - Volume',\n",
       " 'CVX - Adj Close',\n",
       " 'CVX - Close',\n",
       " 'CVX - High',\n",
       " 'CVX - Low',\n",
       " 'CVX - Open',\n",
       " 'CVX - Volume',\n",
       " 'DIA - Adj Close',\n",
       " 'DIA - Close',\n",
       " 'DIA - High',\n",
       " 'DIA - Low',\n",
       " 'DIA - Open',\n",
       " 'DIA - Volume',\n",
       " 'DIS - Adj Close',\n",
       " 'DIS - Close',\n",
       " 'DIS - High',\n",
       " 'DIS - Low',\n",
       " 'DIS - Open',\n",
       " 'DIS - Volume',\n",
       " 'DJI - Adj Close',\n",
       " 'DJI - Close',\n",
       " 'DJI - High',\n",
       " 'DJI - Low',\n",
       " 'DJI - Open',\n",
       " 'DJI - Volume',\n",
       " 'DOW - Adj Close',\n",
       " 'DOW - Close',\n",
       " 'DOW - High',\n",
       " 'DOW - Low',\n",
       " 'DOW - Open',\n",
       " 'DOW - Volume',\n",
       " 'GS - Adj Close',\n",
       " 'GS - Close',\n",
       " 'GS - High',\n",
       " 'GS - Low',\n",
       " 'GS - Open',\n",
       " 'GS - Volume',\n",
       " 'HD - Adj Close',\n",
       " 'HD - Close',\n",
       " 'HD - High',\n",
       " 'HD - Low',\n",
       " 'HD - Open',\n",
       " 'HD - Volume',\n",
       " 'HON - Adj Close',\n",
       " 'HON - Close',\n",
       " 'HON - High',\n",
       " 'HON - Low',\n",
       " 'HON - Open',\n",
       " 'HON - Volume',\n",
       " 'IBM - Adj Close',\n",
       " 'IBM - Close',\n",
       " 'IBM - High',\n",
       " 'IBM - Low',\n",
       " 'IBM - Open',\n",
       " 'IBM - Volume',\n",
       " 'INTC - Adj Close',\n",
       " 'INTC - Close',\n",
       " 'INTC - High',\n",
       " 'INTC - Low',\n",
       " 'INTC - Open',\n",
       " 'INTC - Volume',\n",
       " 'JNJ - Adj Close',\n",
       " 'JNJ - Close',\n",
       " 'JNJ - High',\n",
       " 'JNJ - Low',\n",
       " 'JNJ - Open',\n",
       " 'JNJ - Volume',\n",
       " 'JPM - Adj Close',\n",
       " 'JPM - Close',\n",
       " 'JPM - High',\n",
       " 'JPM - Low',\n",
       " 'JPM - Open',\n",
       " 'JPM - Volume',\n",
       " 'KO - Adj Close',\n",
       " 'KO - Close',\n",
       " 'KO - High',\n",
       " 'KO - Low',\n",
       " 'KO - Open',\n",
       " 'KO - Volume',\n",
       " 'MCD - Adj Close',\n",
       " 'MCD - Close',\n",
       " 'MCD - High',\n",
       " 'MCD - Low',\n",
       " 'MCD - Open',\n",
       " 'MCD - Volume',\n",
       " 'MMM - Adj Close',\n",
       " 'MMM - Close',\n",
       " 'MMM - High',\n",
       " 'MMM - Low',\n",
       " 'MMM - Open',\n",
       " 'MMM - Volume',\n",
       " 'MRK - Adj Close',\n",
       " 'MRK - Close',\n",
       " 'MRK - High',\n",
       " 'MRK - Low',\n",
       " 'MRK - Open',\n",
       " 'MRK - Volume',\n",
       " 'MSFT - Adj Close',\n",
       " 'MSFT - Close',\n",
       " 'MSFT - High',\n",
       " 'MSFT - Low',\n",
       " 'MSFT - Open',\n",
       " 'MSFT - Volume',\n",
       " 'NKE - Adj Close',\n",
       " 'NKE - Close',\n",
       " 'NKE - High',\n",
       " 'NKE - Low',\n",
       " 'NKE - Open',\n",
       " 'NKE - Volume',\n",
       " 'PG - Adj Close',\n",
       " 'PG - Close',\n",
       " 'PG - High',\n",
       " 'PG - Low',\n",
       " 'PG - Open',\n",
       " 'PG - Volume',\n",
       " 'TRV - Adj Close',\n",
       " 'TRV - Close',\n",
       " 'TRV - High',\n",
       " 'TRV - Low',\n",
       " 'TRV - Open',\n",
       " 'TRV - Volume',\n",
       " 'UNH - Adj Close',\n",
       " 'UNH - Close',\n",
       " 'UNH - High',\n",
       " 'UNH - Low',\n",
       " 'UNH - Open',\n",
       " 'UNH - Volume',\n",
       " 'V - Adj Close',\n",
       " 'V - Close',\n",
       " 'V - High',\n",
       " 'V - Low',\n",
       " 'V - Open',\n",
       " 'V - Volume',\n",
       " 'VZ - Adj Close',\n",
       " 'VZ - Close',\n",
       " 'VZ - High',\n",
       " 'VZ - Low',\n",
       " 'VZ - Open',\n",
       " 'VZ - Volume',\n",
       " 'WBA - Adj Close',\n",
       " 'WBA - Close',\n",
       " 'WBA - High',\n",
       " 'WBA - Low',\n",
       " 'WBA - Open',\n",
       " 'WBA - Volume',\n",
       " 'WMT - Adj Close',\n",
       " 'WMT - Close',\n",
       " 'WMT - High',\n",
       " 'WMT - Low',\n",
       " 'WMT - Open',\n",
       " 'WMT - Volume',\n",
       " 'MMM - Dividend',\n",
       " 'DJI - Dividend',\n",
       " 'AXP - Dividend',\n",
       " 'AMGN - Dividend',\n",
       " 'AAPL - Dividend',\n",
       " 'BA - Dividend',\n",
       " 'CAT - Dividend',\n",
       " 'CVX - Dividend',\n",
       " 'CSCO - Dividend',\n",
       " 'KO - Dividend',\n",
       " 'DIS - Dividend',\n",
       " 'DOW - Dividend',\n",
       " 'GS - Dividend',\n",
       " 'HD - Dividend',\n",
       " 'HON - Dividend',\n",
       " 'IBM - Dividend',\n",
       " 'INTC - Dividend',\n",
       " 'JNJ - Dividend',\n",
       " 'JPM - Dividend',\n",
       " 'MCD - Dividend',\n",
       " 'MRK - Dividend',\n",
       " 'MSFT - Dividend',\n",
       " 'NKE - Dividend',\n",
       " 'PG - Dividend',\n",
       " 'CRM - Dividend',\n",
       " 'TRV - Dividend',\n",
       " 'UNH - Dividend',\n",
       " 'VZ - Dividend',\n",
       " 'V - Dividend',\n",
       " 'WBA - Dividend',\n",
       " 'WMT - Dividend',\n",
       " 'DIA - Dividend']"
      ]
     },
     "execution_count": 7,
     "metadata": {},
     "output_type": "execute_result"
    }
   ],
   "source": [
    "df.columns.tolist()"
   ]
  },
  {
   "cell_type": "markdown",
   "id": "764b6d71-65a2-4236-9066-9c37f6876432",
   "metadata": {},
   "source": [
    "# 1. Load Data Dow Jones Industrial Average (DJI)"
   ]
  },
  {
   "cell_type": "markdown",
   "id": "427716dc-d9e7-46c7-9d41-125ffc565b64",
   "metadata": {},
   "source": [
    "## significantmodification is introduced in \n",
    "* Sup-port Vector Machines Algorithm(SVMA) which results in higher accuracy rates. Presence of kernel and other parameters make it more flexible."
   ]
  },
  {
   "cell_type": "code",
   "execution_count": 11,
   "id": "a538b088-0a45-44d1-9df1-f20b28d63939",
   "metadata": {
    "tags": []
   },
   "outputs": [],
   "source": [
    "# insert libraries\n",
    "import pandas_datareader as pdr  "
   ]
  },
  {
   "cell_type": "code",
   "execution_count": 12,
   "id": "83a07feb-e5f1-4bdf-be6d-a27d8f9fcb89",
   "metadata": {
    "tags": []
   },
   "outputs": [
    {
     "data": {
      "text/plain": [
       "(2518, 225)"
      ]
     },
     "execution_count": 12,
     "metadata": {},
     "output_type": "execute_result"
    }
   ],
   "source": [
    " df.shape"
   ]
  },
  {
   "cell_type": "code",
   "execution_count": 13,
   "id": "04255c6c-f73f-4f23-b9fa-f666d311305b",
   "metadata": {
    "tags": []
   },
   "outputs": [],
   "source": [
    "df1= df.reset_index()['DJI - Close']"
   ]
  },
  {
   "cell_type": "code",
   "execution_count": 14,
   "id": "307505d0-0526-46d4-800d-b2f17eb4a5fe",
   "metadata": {},
   "outputs": [
    {
     "data": {
      "text/plain": [
       "0       14659.599609\n",
       "1       14760.299805\n",
       "2       14910.099609\n",
       "3       15024.500000\n",
       "4       14909.599609\n",
       "            ...     \n",
       "2513             NaN\n",
       "2514             NaN\n",
       "2515             NaN\n",
       "2516             NaN\n",
       "2517             NaN\n",
       "Name: DJI - Close, Length: 2518, dtype: float64"
      ]
     },
     "execution_count": 14,
     "metadata": {},
     "output_type": "execute_result"
    }
   ],
   "source": [
    "df1"
   ]
  },
  {
   "cell_type": "code",
   "execution_count": 81,
   "id": "1794ca78-37d9-4d77-97df-41a17e85c940",
   "metadata": {
    "tags": []
   },
   "outputs": [],
   "source": [
    "df1_without_nan = df.dropna(subset=['DJI - Close'])  # Specify columns to check for NaN values"
   ]
  },
  {
   "cell_type": "code",
   "execution_count": 82,
   "id": "08f8ee04-851b-4870-9a7d-01a27ecac86e",
   "metadata": {
    "tags": []
   },
   "outputs": [],
   "source": [
    "df1.dropna(inplace=True)  # Drop NaN values from 'df' in-place"
   ]
  },
  {
   "cell_type": "code",
   "execution_count": 83,
   "id": "455c3ce3-1336-43cb-bf2e-ad6619b3be1f",
   "metadata": {
    "tags": []
   },
   "outputs": [
    {
     "data": {
      "text/plain": [
       "0       14659.599609\n",
       "1       14760.299805\n",
       "2       14910.099609\n",
       "3       15024.500000\n",
       "4       14909.599609\n",
       "            ...     \n",
       "2184    33223.800781\n",
       "2185    34058.800781\n",
       "2186    33892.601562\n",
       "2187    33294.898438\n",
       "2188    33891.300781\n",
       "Name: DJI - Close, Length: 2017, dtype: float64"
      ]
     },
     "execution_count": 83,
     "metadata": {},
     "output_type": "execute_result"
    }
   ],
   "source": [
    "df1"
   ]
  },
  {
   "cell_type": "code",
   "execution_count": 84,
   "id": "844e0c8a-8cb6-4296-ab58-8b2713a4688f",
   "metadata": {
    "tags": []
   },
   "outputs": [
    {
     "name": "stdout",
     "output_type": "stream",
     "text": [
      "Date                0\n",
      "AAPL - Adj Close    0\n",
      "AAPL - Close        0\n",
      "AAPL - High         0\n",
      "AAPL - Low          0\n",
      "                   ..\n",
      "VZ - Dividend       0\n",
      "V - Dividend        0\n",
      "WBA - Dividend      0\n",
      "WMT - Dividend      0\n",
      "DIA - Dividend      0\n",
      "Length: 225, dtype: int64\n"
     ]
    }
   ],
   "source": [
    "# Check for missing data in the DataFrame\n",
    "missing_data = df.isnull().sum()\n",
    "\n",
    "# Display the columns with missing data and their corresponding counts\n",
    "print(missing_data)"
   ]
  },
  {
   "cell_type": "code",
   "execution_count": 85,
   "id": "4c90e735-e29e-411b-80ff-42c57e14b225",
   "metadata": {
    "tags": []
   },
   "outputs": [
    {
     "data": {
      "text/plain": [
       "[<matplotlib.lines.Line2D at 0x7fd9c2ce99c0>]"
      ]
     },
     "execution_count": 85,
     "metadata": {},
     "output_type": "execute_result"
    },
    {
     "data": {
      "image/png": "[encoded data removed]",
      "text/plain": [
       "<Figure size 640x480 with 1 Axes>"
      ]
     },
     "metadata": {},
     "output_type": "display_data"
    }
   ],
   "source": [
    "import matplotlib.pyplot as plt\n",
    "plt.plot(df1)"
   ]
  },
  {
   "cell_type": "code",
   "execution_count": 117,
   "id": "09731598-0dcb-49f1-b034-759aae532851",
   "metadata": {},
   "outputs": [],
   "source": [
    "from sklearn.preprocessing import MinMaxScaler\n",
    "from sklearn.model_selection import train_test_split\n",
    "from sklearn.svm import SVC\n",
    "from sklearn.preprocessing import LabelEncoder, StandardScaler\n",
    "from sklearn.metrics import accuracy_score\n",
    "from sklearn import svm\n",
    "from sklearn.metrics import confusion_matrix, classification_report, accuracy_score\n",
    "from sklearn.preprocessing import StandardScaler, LabelEncoder\n",
    "from sklearn.model_selection import train_test_split\n",
    "import matplotlib.pyplot as plt\n",
    "from sklearn.svm import SVR"
   ]
  },
  {
   "cell_type": "markdown",
   "id": "4bb93e8a-ee4d-484c-8fb1-5b6d026f4685",
   "metadata": {},
   "source": [
    "## SVM Algorithm o predict DJI"
   ]
  },
  {
   "cell_type": "code",
   "execution_count": 93,
   "id": "f133a61e-5570-4e16-8a07-9d6149b17f90",
   "metadata": {},
   "outputs": [],
   "source": [
    "X = df['Date']\n",
    "y = df['DJI - Close']\n",
    "X_train, X_test, y_train, y_test = train_test_split(X, y, test_size=0.2, random_state=1)\n",
    "\n",
    "# Reshape the target variable to a 1D array\n",
    "y_train = np.array(y_train).reshape(-1)\n",
    "\n",
    "\n",
    "X_train = np.array(X_train).reshape(-1, 1)\n",
    "X_test = np.array(X_test).reshape(-1, 1)"
   ]
  },
  {
   "cell_type": "code",
   "execution_count": 94,
   "id": "408ee173-f644-4a76-9109-a97e654f104f",
   "metadata": {},
   "outputs": [],
   "source": [
    "# Scale the feature values\n",
    "scaler = StandardScaler()\n",
    "X_train = scaler.fit_transform(X_train)\n",
    "X_test = scaler.transform(X_test)"
   ]
  },
  {
   "cell_type": "code",
   "execution_count": 95,
   "id": "7b3444c5-5649-4e13-b2d9-8134f9faeb44",
   "metadata": {},
   "outputs": [
    {
     "data": {
      "text/plain": [
       "array([30087.8041564 , 30127.98527254, 30279.3591121 , 30280.46541745,\n",
       "       30268.10055236, 30124.35594456, 30155.99923786, 30167.52323669,\n",
       "       30282.00517708, 30260.95476925, 30258.09651717, 30282.12313461,\n",
       "       30154.20943222, 30268.05504877, 30010.78185161, 29981.95544329,\n",
       "       29978.99851961, 29986.27892173, 30043.07905555, 30137.06168131,\n",
       "       30066.76527632, 30258.81932054, 30011.84748338, 29978.80687908,\n",
       "       30281.94738122, 30269.79274066, 30269.50963826, 30217.16975295,\n",
       "       30258.45886402, 30053.31877063, 30204.28829591, 30072.51967975,\n",
       "       29979.83569018, 30086.07513061, 30042.05503156, 30045.358153  ,\n",
       "       30281.42958708, 30054.13432662, 29978.29500086, 30280.91054878,\n",
       "       30264.95910147, 30279.03793956, 30245.29675181, 29992.35800139,\n",
       "       29982.10458658, 30222.20660635, 30018.5877544 , 30281.7243089 ,\n",
       "       30052.5532446 , 30033.09871587, 30257.31308105, 29994.14970132,\n",
       "       30273.46777875, 30069.21708081, 29978.36128194, 30277.5208623 ,\n",
       "       30266.22641031, 30049.32504545, 30279.94783037, 30060.37599741,\n",
       "       30276.364279  , 30006.19469993, 30278.87609782, 30032.42630443,\n",
       "       30275.09218104, 30125.26297478, 30274.57464934, 30056.94301181,\n",
       "       30271.69892756, 30037.20859431, 30027.17983336, 30162.23030079,\n",
       "       30262.24704685, 29978.17399081, 30004.7420931 , 30203.50386468,\n",
       "       30269.22390215, 29981.24519052, 30045.60925561, 30222.91261141,\n",
       "       29978.04969108, 30263.98429818, 29981.56593311, 30046.60941864,\n",
       "       30045.80155631, 29982.45942187, 30282.07458151, 30272.93062039,\n",
       "       30047.60280725, 29981.52211157, 30074.18479844, 29995.27713707,\n",
       "       30238.77059987, 30022.17610119, 30250.08969585, 30130.70861991,\n",
       "       30184.74914287, 29983.04726072, 30280.34266333, 30112.60150339,\n",
       "       30224.31423104, 30048.83507039, 30090.41038415, 30281.0131225 ,\n",
       "       30265.49555561, 30202.71663858, 30244.394776  , 30058.78451743,\n",
       "       29983.54835282, 30271.12196443, 30017.42360929, 29979.38605831,\n",
       "       30276.16017034, 30000.17951073, 30276.73256173])"
      ]
     },
     "execution_count": 95,
     "metadata": {},
     "output_type": "execute_result"
    }
   ],
   "source": [
    "# Train the SVM model\n",
    "svm = SVR(kernel='rbf')  # You can try different kernel types like 'linear', 'poly', 'sigmoid', etc.\n",
    "svm.fit(X_train, y_train)\n",
    "\n",
    "# Make predictions on the test set\n",
    "y_pred = svm.predict(X_test)\n",
    "y_pred"
   ]
  },
  {
   "cell_type": "code",
   "execution_count": 96,
   "id": "83107e3c-8883-4514-af6a-b2bb0c8745b3",
   "metadata": {},
   "outputs": [
    {
     "data": {
      "image/png": "[encoded data removed]",
      "text/plain": [
       "<Figure size 800x600 with 1 Axes>"
      ]
     },
     "metadata": {},
     "output_type": "display_data"
    }
   ],
   "source": [
    "import matplotlib.pyplot as plt\n",
    "\n",
    "\n",
    "plt.figure(figsize=(8, 6))\n",
    "plt.scatter(y_test, y_pred, color='blue', label='Predicted')\n",
    "plt.plot([min(y_test), max(y_test)], [min(y_test), max(y_test)], color='red', linestyle='--', label='Ideal')\n",
    "plt.xlabel('Actual Values')\n",
    "plt.ylabel('Predicted Values')\n",
    "plt.title('Actual vs. Predicted Values')\n",
    "plt.legend()\n",
    "plt.show()"
   ]
  },
  {
   "cell_type": "code",
   "execution_count": 118,
   "id": "207d0792-c4e0-4ef7-a278-87a172891e47",
   "metadata": {
    "tags": []
   },
   "outputs": [],
   "source": [
    "import pandas as pd\n",
    "import numpy as np\n",
    "from sklearn.svm import SVR\n",
    "from sklearn.model_selection import train_test_split\n",
    "from sklearn.preprocessing import MinMaxScaler\n",
    "from pandas_datareader import data as pdr\n",
    "import yfinance as yf\n",
    "import matplotlib.pyplot as plt\n",
    "yf.pdr_override()"
   ]
  },
  {
   "cell_type": "code",
   "execution_count": 137,
   "id": "3075381b-e0de-428f-99b4-798b1a1ebb36",
   "metadata": {
    "tags": []
   },
   "outputs": [
    {
     "name": "stdout",
     "output_type": "stream",
     "text": [
      "[*********************100%***********************]  1 of 1 completed\n"
     ]
    }
   ],
   "source": [
    "# Define the start and end dates for the data (10 years to train the model)\n",
    "start_date = \"2013-06-01\"\n",
    "end_date = \"2023-06-16\"\n",
    "\n",
    "ticker_list = ['^DJI']\n",
    "# Fetch the stock data for Dow Jones Industrial Average (DJI)\n",
    "DJI_data = yf.download(ticker_list, start=start_date, end=end_date)[['Close']]\n",
    "\n",
    "# predict for 7 days (1 week) June 17-23, 2023"
   ]
  },
  {
   "cell_type": "code",
   "execution_count": 138,
   "id": "09a7a2ca-c0b3-48d1-82f5-eab5bee9b252",
   "metadata": {
    "tags": []
   },
   "outputs": [],
   "source": [
    "# Extract the \"Close\" prices as the target variable\n",
    "target = DJI_data[\"Close\" ].values\n",
    "\n",
    "# Create a feature matrix using the last 10 years of data\n",
    "features = np.arange(len(target)).reshape(-1, 1)\n",
    "\n",
    "# Scale the feature matrix using MinMaxScaler\n",
    "scaler = MinMaxScaler(feature_range=(0, 1))\n",
    "features_scaled = scaler.fit_transform(features)"
   ]
  },
  {
   "cell_type": "code",
   "execution_count": 139,
   "id": "13818dcc-61e2-4148-b065-9b3dc28d05cb",
   "metadata": {
    "tags": []
   },
   "outputs": [],
   "source": [
    "# Select one stock from the listings\n",
    "stock_symbol = 'DJI'  # Change this to the desired stock symbol"
   ]
  },
  {
   "cell_type": "code",
   "execution_count": 143,
   "id": "0fc39be7-a6ff-42ae-848b-6d144a92a41f",
   "metadata": {
    "tags": []
   },
   "outputs": [],
   "source": [
    "# Extract the \"Close\" prices as the target variable\n",
    "target = DJI_data[\"Close\"].values"
   ]
  },
  {
   "cell_type": "code",
   "execution_count": 144,
   "id": "2a486e6b-3ce6-47cb-aa49-39a3605230af",
   "metadata": {
    "tags": []
   },
   "outputs": [],
   "source": [
    "# Create a feature matrix using the last 10 years of data\n",
    "features = np.arange(len(target)).reshape(-1, 1)"
   ]
  },
  {
   "cell_type": "code",
   "execution_count": 145,
   "id": "1d76d41b-fc62-4c7e-aab1-81d42e26f30e",
   "metadata": {
    "tags": []
   },
   "outputs": [],
   "source": [
    "# Scale the feature matrix using MinMaxScaler\n",
    "scaler = MinMaxScaler(feature_range=(0, 1))\n",
    "features_scaled = scaler.fit_transform(features)"
   ]
  },
  {
   "cell_type": "code",
   "execution_count": 148,
   "id": "0722e91e-826b-4218-822d-e6ebead2e930",
   "metadata": {
    "tags": []
   },
   "outputs": [],
   "source": [
    "# Selecting the features (X) and the target variable (y)\n",
    "X = df[['Date']]\n",
    "y = df['DJI - Close']"
   ]
  },
  {
   "cell_type": "code",
   "execution_count": 149,
   "id": "a1d5e880-3bb4-4bc4-bd91-3c42c4511215",
   "metadata": {
    "tags": []
   },
   "outputs": [],
   "source": [
    "# Split the data into training and testing sets\n",
    "X_train, X_test, y_train, y_test = train_test_split(features_scaled, target, test_size=0.2, random_state=1)"
   ]
  },
  {
   "cell_type": "code",
   "execution_count": 150,
   "id": "da3c5335-eb83-4c54-8d00-9a3041c3114f",
   "metadata": {
    "tags": []
   },
   "outputs": [
    {
     "data": {
      "text/html": [
       "<style>#sk-container-id-4 {color: black;background-color: white;}#sk-container-id-4 pre{padding: 0;}#sk-container-id-4 div.sk-toggleable {background-color: white;}#sk-container-id-4 label.sk-toggleable__label {cursor: pointer;display: block;width: 100%;margin-bottom: 0;padding: 0.3em;box-sizing: border-box;text-align: center;}#sk-container-id-4 label.sk-toggleable__label-arrow:before {content: \"▸\";float: left;margin-right: 0.25em;color: #696969;}#sk-container-id-4 label.sk-toggleable__label-arrow:hover:before {color: black;}#sk-container-id-4 div.sk-estimator:hover label.sk-toggleable__label-arrow:before {color: black;}#sk-container-id-4 div.sk-toggleable__content {max-height: 0;max-width: 0;overflow: hidden;text-align: left;background-color: #f0f8ff;}#sk-container-id-4 div.sk-toggleable__content pre {margin: 0.2em;color: black;border-radius: 0.25em;background-color: #f0f8ff;}#sk-container-id-4 input.sk-toggleable__control:checked~div.sk-toggleable__content {max-height: 200px;max-width: 100%;overflow: auto;}#sk-container-id-4 input.sk-toggleable__control:checked~label.sk-toggleable__label-arrow:before {content: \"▾\";}#sk-container-id-4 div.sk-estimator input.sk-toggleable__control:checked~label.sk-toggleable__label {background-color: #d4ebff;}#sk-container-id-4 div.sk-label input.sk-toggleable__control:checked~label.sk-toggleable__label {background-color: #d4ebff;}#sk-container-id-4 input.sk-hidden--visually {border: 0;clip: rect(1px 1px 1px 1px);clip: rect(1px, 1px, 1px, 1px);height: 1px;margin: -1px;overflow: hidden;padding: 0;position: absolute;width: 1px;}#sk-container-id-4 div.sk-estimator {font-family: monospace;background-color: #f0f8ff;border: 1px dotted black;border-radius: 0.25em;box-sizing: border-box;margin-bottom: 0.5em;}#sk-container-id-4 div.sk-estimator:hover {background-color: #d4ebff;}#sk-container-id-4 div.sk-parallel-item::after {content: \"\";width: 100%;border-bottom: 1px solid gray;flex-grow: 1;}#sk-container-id-4 div.sk-label:hover label.sk-toggleable__label {background-color: #d4ebff;}#sk-container-id-4 div.sk-serial::before {content: \"\";position: absolute;border-left: 1px solid gray;box-sizing: border-box;top: 0;bottom: 0;left: 50%;z-index: 0;}#sk-container-id-4 div.sk-serial {display: flex;flex-direction: column;align-items: center;background-color: white;padding-right: 0.2em;padding-left: 0.2em;position: relative;}#sk-container-id-4 div.sk-item {position: relative;z-index: 1;}#sk-container-id-4 div.sk-parallel {display: flex;align-items: stretch;justify-content: center;background-color: white;position: relative;}#sk-container-id-4 div.sk-item::before, #sk-container-id-4 div.sk-parallel-item::before {content: \"\";position: absolute;border-left: 1px solid gray;box-sizing: border-box;top: 0;bottom: 0;left: 50%;z-index: -1;}#sk-container-id-4 div.sk-parallel-item {display: flex;flex-direction: column;z-index: 1;position: relative;background-color: white;}#sk-container-id-4 div.sk-parallel-item:first-child::after {align-self: flex-end;width: 50%;}#sk-container-id-4 div.sk-parallel-item:last-child::after {align-self: flex-start;width: 50%;}#sk-container-id-4 div.sk-parallel-item:only-child::after {width: 0;}#sk-container-id-4 div.sk-dashed-wrapped {border: 1px dashed gray;margin: 0 0.4em 0.5em 0.4em;box-sizing: border-box;padding-bottom: 0.4em;background-color: white;}#sk-container-id-4 div.sk-label label {font-family: monospace;font-weight: bold;display: inline-block;line-height: 1.2em;}#sk-container-id-4 div.sk-label-container {text-align: center;}#sk-container-id-4 div.sk-container {/* jupyter's `normalize.less` sets `[hidden] { display: none; }` but bootstrap.min.css set `[hidden] { display: none !important; }` so we also need the `!important` here to be able to override the default hidden behavior on the sphinx rendered scikit-learn.org. See: https://github.com/scikit-learn/scikit-learn/issues/21755 */display: inline-block !important;position: relative;}#sk-container-id-4 div.sk-text-repr-fallback {display: none;}</style><div id=\"sk-container-id-4\" class=\"sk-top-container\"><div class=\"sk-text-repr-fallback\"><pre>SVR(kernel=&#x27;linear&#x27;)</pre><b>In a Jupyter environment, please rerun this cell to show the HTML representation or trust the notebook. <br />On GitHub, the HTML representation is unable to render, please try loading this page with nbviewer.org.</b></div><div class=\"sk-container\" hidden><div class=\"sk-item\"><div class=\"sk-estimator sk-toggleable\"><input class=\"sk-toggleable__control sk-hidden--visually\" id=\"sk-estimator-id-4\" type=\"checkbox\" checked><label for=\"sk-estimator-id-4\" class=\"sk-toggleable__label sk-toggleable__label-arrow\">SVR</label><div class=\"sk-toggleable__content\"><pre>SVR(kernel=&#x27;linear&#x27;)</pre></div></div></div></div></div>"
      ],
      "text/plain": [
       "SVR(kernel='linear')"
      ]
     },
     "execution_count": 150,
     "metadata": {},
     "output_type": "execute_result"
    }
   ],
   "source": [
    "# Initialize and train the SVR model\n",
    "svr = SVR(kernel=\"linear\")\n",
    "svr.fit(X_train, y_train)"
   ]
  },
  {
   "cell_type": "code",
   "execution_count": 151,
   "id": "96133030-06d1-44dc-ae90-f0bc07fa0a8c",
   "metadata": {
    "tags": []
   },
   "outputs": [],
   "source": [
    "# Predict on the test set\n",
    "predictions = svr.predict(X_test)"
   ]
  },
  {
   "cell_type": "code",
   "execution_count": 152,
   "id": "ca0d1315-6eaf-4664-a3b2-5a7217312527",
   "metadata": {
    "tags": []
   },
   "outputs": [
    {
     "name": "stdout",
     "output_type": "stream",
     "text": [
      "Predicted prices: [24191.07586129 24313.23723864 24275.66394435 24252.15654997\n",
      " 24135.77567944 24357.36177399 24287.80300866 24219.20766112\n",
      " 24498.59882383 24256.3955883  24515.36229359 24121.3244124\n",
      " 24268.72733617 24381.63990261 24129.80248906 24301.86890857\n",
      " 24453.12550355 24140.78545201 24477.78899929 24272.58100738\n",
      " 24178.3587463  24366.03253421 24212.84910363 24254.46875269\n",
      " 24506.88421693 24517.48181275 24545.42092902 24120.93904528\n",
      " 24243.29310619 24427.88395713 24334.81779741 24228.07110491\n",
      " 24584.5356918  24330.9641262  24197.81978591 24304.1811113\n",
      " 24411.31317093 24519.2159648  24310.34698523 24164.10016283\n",
      " 24583.95764112 24338.86415218 24154.27330124 24440.215705\n",
      " 24174.50507509 24159.28307381 24590.12351505 24480.10120202\n",
      " 24250.0370308  24336.93731658 24356.59103975 24473.93532808\n",
      " 24534.24528251 24370.4642561  24241.94432126 24504.95738132\n",
      " 24530.77697843 24238.47601717 24259.67120883 24491.27684853\n",
      " 24539.06237153 24345.03002612 24528.27209214 24200.13198864\n",
      " 24244.25652399 24439.05960364 24594.16986982 24596.86743967\n",
      " 24300.13475653 24489.9280636  24410.73512024 24274.70052654\n",
      " 24350.23248225 24221.32718029 24177.3953285  24235.77844733\n",
      " 24389.15456147 24153.11719988 24224.2174337  24196.66368455\n",
      " 24409.57901888 24499.56224163 24369.30815474 24607.07966838\n",
      " 24429.81079273 24504.5720142  24601.68452868 24180.67094903\n",
      " 24461.79626377 24513.62814154 24314.58602356 24582.80153976\n",
      " 24569.50637408 24271.23222246 24190.69049417 24390.69602995\n",
      " 24349.07638089 24132.69274247 24139.82203421 24471.4304418\n",
      " 24229.80525695 24337.70805082 24482.79877187 24395.70580253\n",
      " 24452.54745287 24370.84962322 24496.09393754 24431.15957766\n",
      " 24423.45223524 24159.66844094 24451.39135151 24360.63739452\n",
      " 24439.63765432 24389.53992859 24486.65244308 24551.77948652\n",
      " 24592.24303422 24395.51311897 24361.40812876 24552.74290432\n",
      " 24383.95210534 24176.4319107  24451.77671863 24444.26205977\n",
      " 24424.03028592 24577.59908362 24323.06410023 24427.49859001\n",
      " 24529.4281935  24463.33773226 24278.36151419 24567.19417136\n",
      " 24415.93757638 24486.07439239 24600.1430602  24306.1079469\n",
      " 24567.9649056  24182.01973395 24259.86389239 24442.72059129\n",
      " 24521.72085108 24416.13025994 24516.71107851 24556.78925909\n",
      " 24526.34525653 24412.85463941 24293.58351547 24456.97917476\n",
      " 24429.04005849 24569.31369052 24215.54667348 24287.03227441\n",
      " 24238.28333361 24233.27356104 24293.39083191 24572.97467817\n",
      " 24281.82981828 24140.97813557 24567.77222204 24586.26984385\n",
      " 24123.44393156 24365.26179997 24511.50862238 24487.42317732\n",
      " 24225.56621862 24382.79600397 24204.75639409 24363.91301505\n",
      " 24405.91803123 24555.44047417 24381.25453549 24468.34750483\n",
      " 24564.68928507 24369.11547118 24384.72283958 24533.66723183\n",
      " 24601.29916156 24179.12948054 24463.91578294 24212.65642007\n",
      " 24554.2843728  24282.98591964 24227.87842135 24325.95435363\n",
      " 24157.74160533 24350.61784937 24143.29033829 24398.98142306\n",
      " 24415.55220926 24175.4684929  24566.03806999 24545.61361258\n",
      " 24272.38832382 24449.07914878 24173.15629017 24338.09341794\n",
      " 24581.06738771 24568.15758916 24214.00520499 24433.8571475\n",
      " 24395.32043541 24412.66195585 24572.20394393 24282.02250184\n",
      " 24275.08589366 24235.39308021 24268.14928549 24502.83786216\n",
      " 24513.24277442 24174.11970797 24264.29561428 24487.23049376\n",
      " 24279.71029912 24143.09765473 24289.92252782 24285.68348949\n",
      " 24313.62260576 24245.41262535 24178.74411342 24264.48829784\n",
      " 24127.87565346 24312.08113728 24131.34395754 24554.66973993\n",
      " 24271.03953889 24375.08866156 24581.26007127 24570.27710832\n",
      " 24205.33444477 24391.08139708 24460.44747885 24243.87115687\n",
      " 24340.98367135 24521.33548396 24509.19641965 24226.72231998\n",
      " 24227.1076871  24397.82532169 24340.21293711 24524.41842093\n",
      " 24426.14980508 24175.08312577 24430.58152697 24605.34551633\n",
      " 24130.95859042 24438.86692008 24337.51536726 24440.60107212\n",
      " 24527.69404146 24493.97441837 24352.35200142 24246.18335959\n",
      " 24567.0014878  24565.84538643 24580.68202059 24520.1793826\n",
      " 24591.27961642 24511.31593882 24398.01800525 24558.7160947\n",
      " 24542.33799205 24272.0029567  24403.41314495 24216.31740772\n",
      " 24500.33297587 24342.13977271 24442.33522416 24419.21319691\n",
      " 24545.22824546 24570.66247545 24575.09419734 24347.34222885\n",
      " 24213.81252143 24487.80854444 24207.45396394 24224.98816794\n",
      " 24129.22443838 24267.37855125 24505.535432   24357.55445755\n",
      " 24551.3941194  24243.10042262 24141.55618625 24162.36601078\n",
      " 24449.27183234 24500.91102655 24367.38131914 24161.7879601\n",
      " 24190.88317773 24227.49305423 24233.65892816 24454.8596556\n",
      " 24326.91777143 24398.21068881 24511.12325526 24165.06358063\n",
      " 24319.98116326 24269.30538685 24202.05882424 24144.44643966\n",
      " 24410.15706956 24299.74938941 24157.54892177 24239.63211854\n",
      " 24501.10371011 24354.66420414 24223.25401589 24526.92330722\n",
      " 24375.66671224 24318.05432765 24326.53240431 24281.2517676\n",
      " 24294.73961683 24377.97891496 24267.95660193 24160.24649162\n",
      " 24268.92001973 24298.20792092 24603.41868073 24573.36004529\n",
      " 24596.67475611 24576.2502987  24368.15205338 24559.10146182\n",
      " 24290.69326206 24296.08840176 24311.31040304 24225.37353506\n",
      " 24534.63064964 24438.28886939 24543.30140986 24221.71254741\n",
      " 24503.6085964  24395.12775185 24570.46979189 24270.07612109\n",
      " 24436.55471735 24438.48155295 24385.68625738 24332.89096181\n",
      " 24552.16485364 24309.76893455 24533.85991539 24275.85662791\n",
      " 24144.06107254 24263.7175636  24561.22098098 24546.57703039\n",
      " 24330.77144264 24247.33946096 24244.44920755 24382.02526973\n",
      " 24378.94233277 24404.56924631 24425.18638728 24510.73788814\n",
      " 24236.16381445 24183.56120244 24516.90376207 24219.78571181\n",
      " 24549.08191667 24222.86864877 24335.3958481  24465.45725142\n",
      " 24468.92555551 24606.5016177  24568.73563984 24421.33271607\n",
      " 24575.47956446 24522.29890176 24355.82030551 24411.89122161\n",
      " 24350.42516581 24505.72811556 24529.81356062 24513.05009086\n",
      " 24500.71834299 24399.55947374 24542.91604274 24342.91050695\n",
      " 24500.52565943 24319.7884797  24416.90099418 24485.11097459\n",
      " 24467.76945415 24212.07836939 24527.88672502 24166.60504911\n",
      " 24518.44523056 24441.56448992 24204.56371053 24387.03504231\n",
      " 24336.3592659  24350.03979869 24550.23801803 24358.90324248\n",
      " 24592.43571778 24167.95383404 24356.78372331 24308.80551675\n",
      " 24238.09065005 24360.83007808 24172.19287237 24441.94985704\n",
      " 24461.60358021 24246.37604315 24344.06660832 24297.05181956\n",
      " 24519.02328124 24233.08087748 24209.5734831  24351.58126718\n",
      " 24196.47100099 24573.55272885 24368.92278762 24495.90125398\n",
      " 24304.95184554 24256.01022118 24391.85213132 24335.01048098\n",
      " 24573.93809597 24255.62485406 24572.58931105 24445.22547757\n",
      " 24405.72534767 24465.84261854 24130.5732233  24593.39913558\n",
      " 24551.58680296 24481.44998694 24237.70528293 24157.16355465\n",
      " 24416.3229435  24185.6807216  24510.9305717  24379.71306701\n",
      " 24373.73987663 24151.96109852 24456.01575696 24478.94510066\n",
      " 24503.80127996 24514.78424291 24134.61957807 24502.6451786\n",
      " 24145.2171739  24267.18586769 24318.24701121 24543.1087263\n",
      " 24308.03478251 24377.59354784 24205.71981189 24202.63687492\n",
      " 24549.65996735 24138.08788216 24266.02976632 24169.30261896\n",
      " 24538.09895372 24343.48855764 24307.07136471 24596.28938899\n",
      " 24410.92780381 24210.34421734 24347.14954529 24450.81330083\n",
      " 24186.83682296 24591.08693286 24497.2500389  24261.98341155\n",
      " 24314.97139068 24588.96741369 24187.22219008 24230.38330763\n",
      " 24465.26456786 24203.40760917 24571.04784257 24184.7173038\n",
      " 24578.36981787 24353.31541922 24532.31844691 24289.15179358\n",
      " 24502.45249503 24164.67821351 24432.50836258 24216.70277484\n",
      " 24422.68150099 24228.64915559 24166.79773267 24220.55644605\n",
      " 24191.46122842 24234.23697884 24560.25756318 24451.58403507\n",
      " 24285.29812237 24362.94959725 24419.79124759 24484.53292391\n",
      " 24571.43320969 24237.12723225 24447.15231318 24398.7887395\n",
      " 24599.1796424  24531.35502911 24329.0372906  24404.76192987\n",
      " 24218.05155976 24546.38434683]\n"
     ]
    }
   ],
   "source": [
    "# Print the predicted prices\n",
    "print(\"Predicted prices:\", predictions)"
   ]
  },
  {
   "cell_type": "code",
   "execution_count": 153,
   "id": "46d048fa-4fec-484a-bc46-b2cf03e6f1df",
   "metadata": {
    "tags": []
   },
   "outputs": [
    {
     "data": {
      "image/png": "[encoded data removed]",
      "text/plain": [
       "<Figure size 640x480 with 1 Axes>"
      ]
     },
     "metadata": {},
     "output_type": "display_data"
    },
    {
     "data": {
      "text/plain": [
       "<Figure size 3000x600 with 0 Axes>"
      ]
     },
     "metadata": {},
     "output_type": "display_data"
    }
   ],
   "source": [
    "# Plotting the actual prices\n",
    "plt.plot(y_test, label='Actual')\n",
    "# Plotting the predicted prices\n",
    "plt.plot(predictions, label='Predicted')\n",
    "\n",
    "# Set the x-axis labels\n",
    "plt.xticks(range(len(y_test)))\n",
    "\n",
    "\n",
    "# Set the plot title and labels\n",
    "plt.title(\"Stock Price Prediction\")\n",
    "plt.xlabel(\"Time\")\n",
    "plt.ylabel(\"Price\")\n",
    "\n",
    "# Show the legend\n",
    "plt.legend()\n",
    "\n",
    "plt.figure(figsize=(30, 6))\n",
    "\n",
    "\n",
    "# Display the plot\n",
    "plt.show()\n"
   ]
  },
  {
   "cell_type": "code",
   "execution_count": 154,
   "id": "c074cd09-5133-41c5-8161-cdc2d90386dd",
   "metadata": {
    "tags": []
   },
   "outputs": [],
   "source": [
    "def get_latest_stock_data(stock_symbol):\n",
    "    # Use yfinance to get the historical data for the specified stock symbol\n",
    "    stock_data = yf.download('^DJI', period='1d')\n",
    " # Return the latest available data (e.g., the most recent trading day)\n",
    "    latest_data = stock_data.iloc[-1]\n",
    "\n",
    "    return latest_data"
   ]
  },
  {
   "cell_type": "code",
   "execution_count": 155,
   "id": "03148a49-d48f-4577-9bce-5bb755d12cef",
   "metadata": {
    "tags": []
   },
   "outputs": [
    {
     "name": "stdout",
     "output_type": "stream",
     "text": [
      "Missing Dates:\n",
      "DatetimeIndex([], dtype='datetime64[ns]', freq='D')\n"
     ]
    }
   ],
   "source": [
    "missing_dates = pd.date_range(start='2023-06-17', end='2022-03-01').difference(stock_data.index)\n",
    "print(\"Missing Dates:\")\n",
    "print(missing_dates)"
   ]
  },
  {
   "cell_type": "code",
   "execution_count": 156,
   "id": "052ebc65-5eee-4b11-887b-8fae05b58edf",
   "metadata": {
    "tags": []
   },
   "outputs": [
    {
     "name": "stdout",
     "output_type": "stream",
     "text": [
      "Latest Date: 2022-03-02 00:00:00\n"
     ]
    }
   ],
   "source": [
    "latest_date = df['Date'].max()\n",
    "print(\"Latest Date:\", latest_date)"
   ]
  },
  {
   "cell_type": "code",
   "execution_count": 157,
   "id": "c254dfb4-f11f-48bb-8ed7-1f87ff68ac9f",
   "metadata": {
    "tags": []
   },
   "outputs": [],
   "source": [
    "df['Date'] = pd.to_datetime(df['Date'])"
   ]
  },
  {
   "cell_type": "code",
   "execution_count": 165,
   "id": "e7d5ae87-7052-4c12-bf37-c2f2c042d5be",
   "metadata": {
    "tags": []
   },
   "outputs": [
    {
     "name": "stdout",
     "output_type": "stream",
     "text": [
      "[*********************100%***********************]  1 of 1 completed\n"
     ]
    }
   ],
   "source": [
    "import yfinance as yf\n",
    "from sklearn.svm import SVR\n",
    "import numpy as np\n",
    "\n",
    "def get_stock_data(stock_symbol, start_date, end_date):\n",
    "    stock_data = yf.download(stock_symbol, start=start_date, end=end_date)\n",
    "    return stock_data\n",
    "\n",
    "# Specify the stock symbol, start date, and end date\n",
    "stock_symbol = 'DJI'\n",
    "start_date = '2022-02-25'\n",
    "end_date = '2022-03-02'\n",
    "\n",
    "# Get the stock data for the specified date range\n",
    "stock_data = get_stock_data(stock_symbol, start_date, end_date)\n",
    "\n",
    "# Extract the 'Close' prices as the target variable\n",
    "prices = stock_data['Close'].values\n"
   ]
  },
  {
   "cell_type": "code",
   "execution_count": 166,
   "id": "f120da4f-87fc-4ecc-88b0-6a1d6cb23fea",
   "metadata": {
    "tags": []
   },
   "outputs": [
    {
     "name": "stdout",
     "output_type": "stream",
     "text": [
      "Index(['Open', 'High', 'Low', 'Close', 'Adj Close', 'Volume'], dtype='object')\n"
     ]
    }
   ],
   "source": [
    "print(stock_data.columns)"
   ]
  },
  {
   "cell_type": "code",
   "execution_count": 168,
   "id": "b7ba5934-1b5d-4f96-896e-38a8876e7001",
   "metadata": {
    "tags": []
   },
   "outputs": [
    {
     "name": "stdout",
     "output_type": "stream",
     "text": [
      "Predicted Prices:\n",
      "Day 1: 33888.6015625\n",
      "Day 2: 33886.6015625\n",
      "Day 3: 33884.6015625\n",
      "Day 4: 33882.6015625\n",
      "Day 5: 33880.6015625\n",
      "Day 6: 33878.6015625\n",
      "Day 7: 33876.6015625\n"
     ]
    }
   ],
   "source": [
    "# Prepare the features (X) and target variable (y)\n",
    "X = np.arange(len(prices)).reshape(-1, 1)\n",
    "y = prices\n",
    "\n",
    "# Train the SVR model\n",
    "svr = SVR(kernel='linear')\n",
    "svr.fit(X, y)\n",
    "\n",
    "# Predict the stock prices for the next 7 days\n",
    "future_X = np.arange(len(prices), len(prices) + 7).reshape(-1, 1)\n",
    "predicted_prices = svr.predict(future_X)\n",
    "\n",
    "# Print the predicted prices\n",
    "print(\"Predicted Prices:\")\n",
    "for i in range(len(predicted_prices)):\n",
    "    print(f\"Day {i+1}: {predicted_prices[i]}\")"
   ]
  },
  {
   "cell_type": "code",
   "execution_count": 169,
   "id": "9ec73366-7a2f-4bdd-8ff4-207a6aa8336c",
   "metadata": {
    "tags": []
   },
   "outputs": [
    {
     "name": "stdout",
     "output_type": "stream",
     "text": [
      "Predicted Prices:\n",
      "Day 1: 33888.6015625\n",
      "Day 2: 33886.6015625\n",
      "Day 3: 33884.6015625\n",
      "Day 4: 33882.6015625\n",
      "Day 5: 33880.6015625\n",
      "Day 6: 33878.6015625\n",
      "Day 7: 33876.6015625\n",
      "\n",
      "Actual Prices:\n",
      "Day 1: 33294.8984375\n"
     ]
    }
   ],
   "source": [
    "# Prepare the features (X) and target variable (y)\n",
    "X = np.arange(len(prices)).reshape(-1, 1)\n",
    "y = prices\n",
    "\n",
    "# Train the SVR model\n",
    "svr = SVR(kernel='linear')\n",
    "svr.fit(X, y)\n",
    "\n",
    "# Predict the stock prices for the next 7 days\n",
    "future_X = np.arange(len(prices), len(prices) + 7).reshape(-1, 1)\n",
    "predicted_prices = svr.predict(future_X)\n",
    "\n",
    "# Print the predicted prices\n",
    "print(\"Predicted Prices:\")\n",
    "for i in range(len(predicted_prices)):\n",
    "    print(f\"Day {i+1}: {predicted_prices[i]}\")\n",
    "\n",
    "# Compare with actual prices\n",
    "actual_prices = stock_data['Close'].values[-1:]\n",
    "\n",
    "# Print the actual prices\n",
    "print(\"\\nActual Prices:\")\n",
    "for i in range(len(actual_prices)):\n",
    "    print(f\"Day {i+1}: {actual_prices[i]}\")"
   ]
  }
 ],
 "metadata": {
  "kernelspec": {
   "display_name": "Python 3 (ipykernel)",
   "language": "python",
   "name": "python3"
  },
  "language_info": {
   "codemirror_mode": {
    "name": "ipython",
    "version": 3
   },
   "file_extension": ".py",
   "mimetype": "text/x-python",
   "name": "python",
   "nbconvert_exporter": "python",
   "pygments_lexer": "ipython3",
   "version": "3.10.11"
  }
 },
 "nbformat": 4,
 "nbformat_minor": 5
}
